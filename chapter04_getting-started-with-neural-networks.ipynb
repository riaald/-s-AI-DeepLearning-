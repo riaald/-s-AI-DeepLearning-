{
  "cells": [
    {
      "cell_type": "markdown",
      "metadata": {
        "id": "36zSMSaaR53w"
      },
      "source": [
        "This is a companion notebook for the book [Deep Learning with Python, Second Edition](https://www.manning.com/books/deep-learning-with-python-second-edition?a_aid=keras&a_bid=76564dff). For readability, it only contains runnable code blocks and section titles, and omits everything else in the book: text paragraphs, figures, and pseudocode.\n",
        "\n",
        "**If you want to be able to follow what's going on, I recommend reading the notebook side by side with your copy of the book.**\n",
        "\n",
        "This notebook was generated for TensorFlow 2.6."
      ]
    },
    {
      "cell_type": "markdown",
      "metadata": {
        "id": "qx46PPAQR536"
      },
      "source": [
        "# Getting started with neural networks: Classification and regression"
      ]
    },
    {
      "cell_type": "markdown",
      "metadata": {
        "id": "yMtVZmyjR537"
      },
      "source": [
        "## Classifying movie reviews: A binary classification example"
      ]
    },
    {
      "cell_type": "markdown",
      "metadata": {
        "id": "ftvfKictR538"
      },
      "source": [
        "### The IMDB dataset"
      ]
    },
    {
      "cell_type": "markdown",
      "metadata": {
        "id": "SqqgX7DPR539"
      },
      "source": [
        "**Loading the IMDB dataset**"
      ]
    },
    {
      "cell_type": "code",
      "execution_count": 24,
      "metadata": {
        "id": "D3B3xiPYR53-"
      },
      "outputs": [],
      "source": [
        "from tensorflow.keras.datasets import imdb\n",
        "(train_data, train_labels), (test_data, test_labels) = imdb.load_data(\n",
        "    num_words=10000)"
      ]
    },
    {
      "cell_type": "code",
      "execution_count": 25,
      "metadata": {
        "id": "UskzzuI4R54A",
        "outputId": "c5e2998b-0496-4f4a-9bd7-0ee1bd166d7c",
        "colab": {
          "base_uri": "https://localhost:8080/"
        }
      },
      "outputs": [
        {
          "output_type": "execute_result",
          "data": {
            "text/plain": [
              "[1,\n",
              " 14,\n",
              " 22,\n",
              " 16,\n",
              " 43,\n",
              " 530,\n",
              " 973,\n",
              " 1622,\n",
              " 1385,\n",
              " 65,\n",
              " 458,\n",
              " 4468,\n",
              " 66,\n",
              " 3941,\n",
              " 4,\n",
              " 173,\n",
              " 36,\n",
              " 256,\n",
              " 5,\n",
              " 25,\n",
              " 100,\n",
              " 43,\n",
              " 838,\n",
              " 112,\n",
              " 50,\n",
              " 670,\n",
              " 2,\n",
              " 9,\n",
              " 35,\n",
              " 480,\n",
              " 284,\n",
              " 5,\n",
              " 150,\n",
              " 4,\n",
              " 172,\n",
              " 112,\n",
              " 167,\n",
              " 2,\n",
              " 336,\n",
              " 385,\n",
              " 39,\n",
              " 4,\n",
              " 172,\n",
              " 4536,\n",
              " 1111,\n",
              " 17,\n",
              " 546,\n",
              " 38,\n",
              " 13,\n",
              " 447,\n",
              " 4,\n",
              " 192,\n",
              " 50,\n",
              " 16,\n",
              " 6,\n",
              " 147,\n",
              " 2025,\n",
              " 19,\n",
              " 14,\n",
              " 22,\n",
              " 4,\n",
              " 1920,\n",
              " 4613,\n",
              " 469,\n",
              " 4,\n",
              " 22,\n",
              " 71,\n",
              " 87,\n",
              " 12,\n",
              " 16,\n",
              " 43,\n",
              " 530,\n",
              " 38,\n",
              " 76,\n",
              " 15,\n",
              " 13,\n",
              " 1247,\n",
              " 4,\n",
              " 22,\n",
              " 17,\n",
              " 515,\n",
              " 17,\n",
              " 12,\n",
              " 16,\n",
              " 626,\n",
              " 18,\n",
              " 2,\n",
              " 5,\n",
              " 62,\n",
              " 386,\n",
              " 12,\n",
              " 8,\n",
              " 316,\n",
              " 8,\n",
              " 106,\n",
              " 5,\n",
              " 4,\n",
              " 2223,\n",
              " 5244,\n",
              " 16,\n",
              " 480,\n",
              " 66,\n",
              " 3785,\n",
              " 33,\n",
              " 4,\n",
              " 130,\n",
              " 12,\n",
              " 16,\n",
              " 38,\n",
              " 619,\n",
              " 5,\n",
              " 25,\n",
              " 124,\n",
              " 51,\n",
              " 36,\n",
              " 135,\n",
              " 48,\n",
              " 25,\n",
              " 1415,\n",
              " 33,\n",
              " 6,\n",
              " 22,\n",
              " 12,\n",
              " 215,\n",
              " 28,\n",
              " 77,\n",
              " 52,\n",
              " 5,\n",
              " 14,\n",
              " 407,\n",
              " 16,\n",
              " 82,\n",
              " 2,\n",
              " 8,\n",
              " 4,\n",
              " 107,\n",
              " 117,\n",
              " 5952,\n",
              " 15,\n",
              " 256,\n",
              " 4,\n",
              " 2,\n",
              " 7,\n",
              " 3766,\n",
              " 5,\n",
              " 723,\n",
              " 36,\n",
              " 71,\n",
              " 43,\n",
              " 530,\n",
              " 476,\n",
              " 26,\n",
              " 400,\n",
              " 317,\n",
              " 46,\n",
              " 7,\n",
              " 4,\n",
              " 2,\n",
              " 1029,\n",
              " 13,\n",
              " 104,\n",
              " 88,\n",
              " 4,\n",
              " 381,\n",
              " 15,\n",
              " 297,\n",
              " 98,\n",
              " 32,\n",
              " 2071,\n",
              " 56,\n",
              " 26,\n",
              " 141,\n",
              " 6,\n",
              " 194,\n",
              " 7486,\n",
              " 18,\n",
              " 4,\n",
              " 226,\n",
              " 22,\n",
              " 21,\n",
              " 134,\n",
              " 476,\n",
              " 26,\n",
              " 480,\n",
              " 5,\n",
              " 144,\n",
              " 30,\n",
              " 5535,\n",
              " 18,\n",
              " 51,\n",
              " 36,\n",
              " 28,\n",
              " 224,\n",
              " 92,\n",
              " 25,\n",
              " 104,\n",
              " 4,\n",
              " 226,\n",
              " 65,\n",
              " 16,\n",
              " 38,\n",
              " 1334,\n",
              " 88,\n",
              " 12,\n",
              " 16,\n",
              " 283,\n",
              " 5,\n",
              " 16,\n",
              " 4472,\n",
              " 113,\n",
              " 103,\n",
              " 32,\n",
              " 15,\n",
              " 16,\n",
              " 5345,\n",
              " 19,\n",
              " 178,\n",
              " 32]"
            ]
          },
          "metadata": {},
          "execution_count": 25
        }
      ],
      "source": [
        "train_data[0]"
      ]
    },
    {
      "cell_type": "code",
      "execution_count": 26,
      "metadata": {
        "id": "9CsBNUWdR54C",
        "outputId": "6f505ced-56ac-4d90-b14d-ef55fe6a5114",
        "colab": {
          "base_uri": "https://localhost:8080/"
        }
      },
      "outputs": [
        {
          "output_type": "execute_result",
          "data": {
            "text/plain": [
              "1"
            ]
          },
          "metadata": {},
          "execution_count": 26
        }
      ],
      "source": [
        "train_labels[0]"
      ]
    },
    {
      "cell_type": "code",
      "execution_count": 27,
      "metadata": {
        "id": "B6VTsH3_R54C",
        "outputId": "c5cc8e55-5fe9-41ac-fbeb-75f5b5140b58",
        "colab": {
          "base_uri": "https://localhost:8080/"
        }
      },
      "outputs": [
        {
          "output_type": "execute_result",
          "data": {
            "text/plain": [
              "9999"
            ]
          },
          "metadata": {},
          "execution_count": 27
        }
      ],
      "source": [
        "max([max(sequence) for sequence in train_data])"
      ]
    },
    {
      "cell_type": "markdown",
      "metadata": {
        "id": "plSNlFrER54D"
      },
      "source": [
        "**Decoding reviews back to text**"
      ]
    },
    {
      "cell_type": "code",
      "source": [
        "[(value, key) for (key, value) in word_index.items()]"
      ],
      "metadata": {
        "id": "QgvPIKCPSZE2",
        "outputId": "bdc9be98-cbd7-4522-9515-c155248bb4e7",
        "colab": {
          "base_uri": "https://localhost:8080/"
        }
      },
      "execution_count": 28,
      "outputs": [
        {
          "output_type": "execute_result",
          "data": {
            "text/plain": [
              "[(34701, 'fawn'),\n",
              " (52006, 'tsukino'),\n",
              " (52007, 'nunnery'),\n",
              " (16816, 'sonja'),\n",
              " (63951, 'vani'),\n",
              " (1408, 'woods'),\n",
              " (16115, 'spiders'),\n",
              " (2345, 'hanging'),\n",
              " (2289, 'woody'),\n",
              " (52008, 'trawling'),\n",
              " (52009, \"hold's\"),\n",
              " (11307, 'comically'),\n",
              " (40830, 'localized'),\n",
              " (30568, 'disobeying'),\n",
              " (52010, \"'royale\"),\n",
              " (40831, \"harpo's\"),\n",
              " (52011, 'canet'),\n",
              " (19313, 'aileen'),\n",
              " (52012, 'acurately'),\n",
              " (52013, \"diplomat's\"),\n",
              " (25242, 'rickman'),\n",
              " (6746, 'arranged'),\n",
              " (52014, 'rumbustious'),\n",
              " (52015, 'familiarness'),\n",
              " (52016, \"spider'\"),\n",
              " (68804, 'hahahah'),\n",
              " (52017, \"wood'\"),\n",
              " (40833, 'transvestism'),\n",
              " (34702, \"hangin'\"),\n",
              " (2338, 'bringing'),\n",
              " (40834, 'seamier'),\n",
              " (34703, 'wooded'),\n",
              " (52018, 'bravora'),\n",
              " (16817, 'grueling'),\n",
              " (1636, 'wooden'),\n",
              " (16818, 'wednesday'),\n",
              " (52019, \"'prix\"),\n",
              " (34704, 'altagracia'),\n",
              " (52020, 'circuitry'),\n",
              " (11585, 'crotch'),\n",
              " (57766, 'busybody'),\n",
              " (52021, \"tart'n'tangy\"),\n",
              " (14129, 'burgade'),\n",
              " (52023, 'thrace'),\n",
              " (11038, \"tom's\"),\n",
              " (52025, 'snuggles'),\n",
              " (29114, 'francesco'),\n",
              " (52027, 'complainers'),\n",
              " (52125, 'templarios'),\n",
              " (40835, '272'),\n",
              " (52028, '273'),\n",
              " (52130, 'zaniacs'),\n",
              " (34706, '275'),\n",
              " (27631, 'consenting'),\n",
              " (40836, 'snuggled'),\n",
              " (15492, 'inanimate'),\n",
              " (52030, 'uality'),\n",
              " (11926, 'bronte'),\n",
              " (4010, 'errors'),\n",
              " (3230, 'dialogs'),\n",
              " (52031, \"yomada's\"),\n",
              " (34707, \"madman's\"),\n",
              " (30585, 'dialoge'),\n",
              " (52033, 'usenet'),\n",
              " (40837, 'videodrome'),\n",
              " (26338, \"kid'\"),\n",
              " (52034, 'pawed'),\n",
              " (30569, \"'girlfriend'\"),\n",
              " (52035, \"'pleasure\"),\n",
              " (52036, \"'reloaded'\"),\n",
              " (40839, \"kazakos'\"),\n",
              " (52037, 'rocque'),\n",
              " (52038, 'mailings'),\n",
              " (11927, 'brainwashed'),\n",
              " (16819, 'mcanally'),\n",
              " (52039, \"tom''\"),\n",
              " (25243, 'kurupt'),\n",
              " (21905, 'affiliated'),\n",
              " (52040, 'babaganoosh'),\n",
              " (40840, \"noe's\"),\n",
              " (40841, 'quart'),\n",
              " (359, 'kids'),\n",
              " (5034, 'uplifting'),\n",
              " (7093, 'controversy'),\n",
              " (21906, 'kida'),\n",
              " (23379, 'kidd'),\n",
              " (52041, \"error'\"),\n",
              " (52042, 'neurologist'),\n",
              " (18510, 'spotty'),\n",
              " (30570, 'cobblers'),\n",
              " (9878, 'projection'),\n",
              " (40842, 'fastforwarding'),\n",
              " (52043, 'sters'),\n",
              " (52044, \"eggar's\"),\n",
              " (52045, 'etherything'),\n",
              " (40843, 'gateshead'),\n",
              " (34708, 'airball'),\n",
              " (25244, 'unsinkable'),\n",
              " (7180, 'stern'),\n",
              " (52046, \"cervi's\"),\n",
              " (40844, 'dnd'),\n",
              " (11586, 'dna'),\n",
              " (20598, 'insecurity'),\n",
              " (52047, \"'reboot'\"),\n",
              " (11037, 'trelkovsky'),\n",
              " (52048, 'jaekel'),\n",
              " (52049, 'sidebars'),\n",
              " (52050, \"sforza's\"),\n",
              " (17633, 'distortions'),\n",
              " (52051, 'mutinies'),\n",
              " (30602, 'sermons'),\n",
              " (40846, '7ft'),\n",
              " (52052, 'boobage'),\n",
              " (52053, \"o'bannon's\"),\n",
              " (23380, 'populations'),\n",
              " (52054, 'chulak'),\n",
              " (27633, 'mesmerize'),\n",
              " (52055, 'quinnell'),\n",
              " (10307, 'yahoo'),\n",
              " (52057, 'meteorologist'),\n",
              " (42577, 'beswick'),\n",
              " (15493, 'boorman'),\n",
              " (40847, 'voicework'),\n",
              " (52058, \"ster'\"),\n",
              " (22922, 'blustering'),\n",
              " (52059, 'hj'),\n",
              " (27634, 'intake'),\n",
              " (5621, 'morally'),\n",
              " (40849, 'jumbling'),\n",
              " (52060, 'bowersock'),\n",
              " (52061, \"'porky's'\"),\n",
              " (16821, 'gershon'),\n",
              " (40850, 'ludicrosity'),\n",
              " (52062, 'coprophilia'),\n",
              " (40851, 'expressively'),\n",
              " (19500, \"india's\"),\n",
              " (34710, \"post's\"),\n",
              " (52063, 'wana'),\n",
              " (5283, 'wang'),\n",
              " (30571, 'wand'),\n",
              " (25245, 'wane'),\n",
              " (52321, 'edgeways'),\n",
              " (34711, 'titanium'),\n",
              " (40852, 'pinta'),\n",
              " (178, 'want'),\n",
              " (30572, 'pinto'),\n",
              " (52065, 'whoopdedoodles'),\n",
              " (21908, 'tchaikovsky'),\n",
              " (2103, 'travel'),\n",
              " (52066, \"'victory'\"),\n",
              " (11928, 'copious'),\n",
              " (22433, 'gouge'),\n",
              " (52067, \"chapters'\"),\n",
              " (6702, 'barbra'),\n",
              " (30573, 'uselessness'),\n",
              " (52068, \"wan'\"),\n",
              " (27635, 'assimilated'),\n",
              " (16116, 'petiot'),\n",
              " (52069, 'most\\x85and'),\n",
              " (3930, 'dinosaurs'),\n",
              " (352, 'wrong'),\n",
              " (52070, 'seda'),\n",
              " (52071, 'stollen'),\n",
              " (34712, 'sentencing'),\n",
              " (40853, 'ouroboros'),\n",
              " (40854, 'assimilates'),\n",
              " (40855, 'colorfully'),\n",
              " (27636, 'glenne'),\n",
              " (52072, 'dongen'),\n",
              " (4760, 'subplots'),\n",
              " (52073, 'kiloton'),\n",
              " (23381, 'chandon'),\n",
              " (34713, \"effect'\"),\n",
              " (27637, 'snugly'),\n",
              " (40856, 'kuei'),\n",
              " (9092, 'welcomed'),\n",
              " (30071, 'dishonor'),\n",
              " (52075, 'concurrence'),\n",
              " (23382, 'stoicism'),\n",
              " (14896, \"guys'\"),\n",
              " (52077, \"beroemd'\"),\n",
              " (6703, 'butcher'),\n",
              " (40857, \"melfi's\"),\n",
              " (30623, 'aargh'),\n",
              " (20599, 'playhouse'),\n",
              " (11308, 'wickedly'),\n",
              " (1180, 'fit'),\n",
              " (52078, 'labratory'),\n",
              " (40859, 'lifeline'),\n",
              " (1927, 'screaming'),\n",
              " (4287, 'fix'),\n",
              " (52079, 'cineliterate'),\n",
              " (52080, 'fic'),\n",
              " (52081, 'fia'),\n",
              " (34714, 'fig'),\n",
              " (52082, 'fmvs'),\n",
              " (52083, 'fie'),\n",
              " (52084, 'reentered'),\n",
              " (30574, 'fin'),\n",
              " (52085, 'doctresses'),\n",
              " (52086, 'fil'),\n",
              " (12606, 'zucker'),\n",
              " (31931, 'ached'),\n",
              " (52088, 'counsil'),\n",
              " (52089, 'paterfamilias'),\n",
              " (13885, 'songwriter'),\n",
              " (34715, 'shivam'),\n",
              " (9654, 'hurting'),\n",
              " (299, 'effects'),\n",
              " (52090, 'slauther'),\n",
              " (52091, \"'flame'\"),\n",
              " (52092, 'sommerset'),\n",
              " (52093, 'interwhined'),\n",
              " (27638, 'whacking'),\n",
              " (52094, 'bartok'),\n",
              " (8775, 'barton'),\n",
              " (21909, 'frewer'),\n",
              " (52095, \"fi'\"),\n",
              " (6192, 'ingrid'),\n",
              " (30575, 'stribor'),\n",
              " (52096, 'approporiately'),\n",
              " (52097, 'wobblyhand'),\n",
              " (52098, 'tantalisingly'),\n",
              " (52099, 'ankylosaurus'),\n",
              " (17634, 'parasites'),\n",
              " (52100, 'childen'),\n",
              " (52101, \"jenkins'\"),\n",
              " (52102, 'metafiction'),\n",
              " (17635, 'golem'),\n",
              " (40860, 'indiscretion'),\n",
              " (23383, \"reeves'\"),\n",
              " (57781, \"inamorata's\"),\n",
              " (52104, 'brittannica'),\n",
              " (7916, 'adapt'),\n",
              " (30576, \"russo's\"),\n",
              " (48246, 'guitarists'),\n",
              " (10553, 'abbott'),\n",
              " (40861, 'abbots'),\n",
              " (17649, 'lanisha'),\n",
              " (40863, 'magickal'),\n",
              " (52105, 'mattter'),\n",
              " (52106, \"'willy\"),\n",
              " (34716, 'pumpkins'),\n",
              " (52107, 'stuntpeople'),\n",
              " (30577, 'estimate'),\n",
              " (40864, 'ugghhh'),\n",
              " (11309, 'gameplay'),\n",
              " (52108, \"wern't\"),\n",
              " (40865, \"n'sync\"),\n",
              " (16117, 'sickeningly'),\n",
              " (40866, 'chiara'),\n",
              " (4011, 'disturbed'),\n",
              " (40867, 'portmanteau'),\n",
              " (52109, 'ineffectively'),\n",
              " (82143, \"duchonvey's\"),\n",
              " (37519, \"nasty'\"),\n",
              " (1285, 'purpose'),\n",
              " (52112, 'lazers'),\n",
              " (28105, 'lightened'),\n",
              " (52113, 'kaliganj'),\n",
              " (52114, 'popularism'),\n",
              " (18511, \"damme's\"),\n",
              " (30578, 'stylistics'),\n",
              " (52115, 'mindgaming'),\n",
              " (46449, 'spoilerish'),\n",
              " (52117, \"'corny'\"),\n",
              " (34718, 'boerner'),\n",
              " (6792, 'olds'),\n",
              " (52118, 'bakelite'),\n",
              " (27639, 'renovated'),\n",
              " (27640, 'forrester'),\n",
              " (52119, \"lumiere's\"),\n",
              " (52024, 'gaskets'),\n",
              " (884, 'needed'),\n",
              " (34719, 'smight'),\n",
              " (1297, 'master'),\n",
              " (25905, \"edie's\"),\n",
              " (40868, 'seeber'),\n",
              " (52120, 'hiya'),\n",
              " (52121, 'fuzziness'),\n",
              " (14897, 'genesis'),\n",
              " (12607, 'rewards'),\n",
              " (30579, 'enthrall'),\n",
              " (40869, \"'about\"),\n",
              " (52122, \"recollection's\"),\n",
              " (11039, 'mutilated'),\n",
              " (52123, 'fatherlands'),\n",
              " (52124, \"fischer's\"),\n",
              " (5399, 'positively'),\n",
              " (34705, '270'),\n",
              " (34720, 'ahmed'),\n",
              " (9836, 'zatoichi'),\n",
              " (13886, 'bannister'),\n",
              " (52127, 'anniversaries'),\n",
              " (30580, \"helm's\"),\n",
              " (52128, \"'work'\"),\n",
              " (34721, 'exclaimed'),\n",
              " (52129, \"'unfunny'\"),\n",
              " (52029, '274'),\n",
              " (544, 'feeling'),\n",
              " (52131, \"wanda's\"),\n",
              " (33266, 'dolan'),\n",
              " (52133, '278'),\n",
              " (52134, 'peacoat'),\n",
              " (40870, 'brawny'),\n",
              " (40871, 'mishra'),\n",
              " (40872, 'worlders'),\n",
              " (52135, 'protags'),\n",
              " (52136, 'skullcap'),\n",
              " (57596, 'dastagir'),\n",
              " (5622, 'affairs'),\n",
              " (7799, 'wholesome'),\n",
              " (52137, 'hymen'),\n",
              " (25246, 'paramedics'),\n",
              " (52138, 'unpersons'),\n",
              " (52139, 'heavyarms'),\n",
              " (52140, 'affaire'),\n",
              " (52141, 'coulisses'),\n",
              " (40873, 'hymer'),\n",
              " (52142, 'kremlin'),\n",
              " (30581, 'shipments'),\n",
              " (52143, 'pixilated'),\n",
              " (30582, \"'00s\"),\n",
              " (18512, 'diminishing'),\n",
              " (1357, 'cinematic'),\n",
              " (14898, 'resonates'),\n",
              " (40874, 'simplify'),\n",
              " (40875, \"nature'\"),\n",
              " (40876, 'temptresses'),\n",
              " (16822, 'reverence'),\n",
              " (19502, 'resonated'),\n",
              " (34722, 'dailey'),\n",
              " (52144, '2\\x85'),\n",
              " (27641, 'treize'),\n",
              " (52145, 'majo'),\n",
              " (21910, 'kiya'),\n",
              " (52146, 'woolnough'),\n",
              " (39797, 'thanatos'),\n",
              " (35731, 'sandoval'),\n",
              " (40879, 'dorama'),\n",
              " (52147, \"o'shaughnessy\"),\n",
              " (4988, 'tech'),\n",
              " (32018, 'fugitives'),\n",
              " (30583, 'teck'),\n",
              " (76125, \"'e'\"),\n",
              " (40881, 'doesn’t'),\n",
              " (52149, 'purged'),\n",
              " (657, 'saying'),\n",
              " (41095, \"martians'\"),\n",
              " (23418, 'norliss'),\n",
              " (27642, 'dickey'),\n",
              " (52152, 'dicker'),\n",
              " (52153, \"'sependipity\"),\n",
              " (8422, 'padded'),\n",
              " (57792, 'ordell'),\n",
              " (40882, \"sturges'\"),\n",
              " (52154, 'independentcritics'),\n",
              " (5745, 'tempted'),\n",
              " (34724, \"atkinson's\"),\n",
              " (25247, 'hounded'),\n",
              " (52155, 'apace'),\n",
              " (15494, 'clicked'),\n",
              " (30584, \"'humor'\"),\n",
              " (17177, \"martino's\"),\n",
              " (52156, \"'supporting\"),\n",
              " (52032, 'warmongering'),\n",
              " (34725, \"zemeckis's\"),\n",
              " (21911, 'lube'),\n",
              " (52157, 'shocky'),\n",
              " (7476, 'plate'),\n",
              " (40883, 'plata'),\n",
              " (40884, 'sturgess'),\n",
              " (40885, \"nerds'\"),\n",
              " (20600, 'plato'),\n",
              " (34726, 'plath'),\n",
              " (40886, 'platt'),\n",
              " (52159, 'mcnab'),\n",
              " (27643, 'clumsiness'),\n",
              " (3899, 'altogether'),\n",
              " (42584, 'massacring'),\n",
              " (52160, 'bicenntinial'),\n",
              " (40887, 'skaal'),\n",
              " (14360, 'droning'),\n",
              " (8776, 'lds'),\n",
              " (21912, 'jaguar'),\n",
              " (34727, \"cale's\"),\n",
              " (1777, 'nicely'),\n",
              " (4588, 'mummy'),\n",
              " (18513, \"lot's\"),\n",
              " (10086, 'patch'),\n",
              " (50202, 'kerkhof'),\n",
              " (52161, \"leader's\"),\n",
              " (27644, \"'movie\"),\n",
              " (52162, 'uncomfirmed'),\n",
              " (40888, 'heirloom'),\n",
              " (47360, 'wrangle'),\n",
              " (52163, 'emotion\\x85'),\n",
              " (52164, \"'stargate'\"),\n",
              " (40889, 'pinoy'),\n",
              " (40890, 'conchatta'),\n",
              " (41128, 'broeke'),\n",
              " (40891, 'advisedly'),\n",
              " (17636, \"barker's\"),\n",
              " (52166, 'descours'),\n",
              " (772, 'lots'),\n",
              " (9259, 'lotr'),\n",
              " (9879, 'irs'),\n",
              " (52167, 'lott'),\n",
              " (40892, 'xvi'),\n",
              " (34728, 'irk'),\n",
              " (52168, 'irl'),\n",
              " (6887, 'ira'),\n",
              " (21913, 'belzer'),\n",
              " (52169, 'irc'),\n",
              " (27645, 'ire'),\n",
              " (40893, 'requisites'),\n",
              " (7693, 'discipline'),\n",
              " (52961, 'lyoko'),\n",
              " (11310, 'extend'),\n",
              " (873, 'nature'),\n",
              " (52170, \"'dickie'\"),\n",
              " (40894, 'optimist'),\n",
              " (30586, 'lapping'),\n",
              " (3900, 'superficial'),\n",
              " (52171, 'vestment'),\n",
              " (2823, 'extent'),\n",
              " (52172, 'tendons'),\n",
              " (52173, \"heller's\"),\n",
              " (52174, 'quagmires'),\n",
              " (52175, 'miyako'),\n",
              " (20601, 'moocow'),\n",
              " (52176, \"coles'\"),\n",
              " (40895, 'lookit'),\n",
              " (52177, 'ravenously'),\n",
              " (40896, 'levitating'),\n",
              " (52178, 'perfunctorily'),\n",
              " (30587, 'lookin'),\n",
              " (40898, \"lot'\"),\n",
              " (52179, 'lookie'),\n",
              " (34870, 'fearlessly'),\n",
              " (52181, 'libyan'),\n",
              " (40899, 'fondles'),\n",
              " (35714, 'gopher'),\n",
              " (40901, 'wearying'),\n",
              " (52182, \"nz's\"),\n",
              " (27646, 'minuses'),\n",
              " (52183, 'puposelessly'),\n",
              " (52184, 'shandling'),\n",
              " (31268, 'decapitates'),\n",
              " (11929, 'humming'),\n",
              " (40902, \"'nother\"),\n",
              " (21914, 'smackdown'),\n",
              " (30588, 'underdone'),\n",
              " (40903, 'frf'),\n",
              " (52185, 'triviality'),\n",
              " (25248, 'fro'),\n",
              " (8777, 'bothers'),\n",
              " (52186, \"'kensington\"),\n",
              " (73, 'much'),\n",
              " (34730, 'muco'),\n",
              " (22615, 'wiseguy'),\n",
              " (27648, \"richie's\"),\n",
              " (40904, 'tonino'),\n",
              " (52187, 'unleavened'),\n",
              " (11587, 'fry'),\n",
              " (40905, \"'tv'\"),\n",
              " (40906, 'toning'),\n",
              " (14361, 'obese'),\n",
              " (30589, 'sensationalized'),\n",
              " (40907, 'spiv'),\n",
              " (6259, 'spit'),\n",
              " (7364, 'arkin'),\n",
              " (21915, 'charleton'),\n",
              " (16823, 'jeon'),\n",
              " (21916, 'boardroom'),\n",
              " (4989, 'doubts'),\n",
              " (3084, 'spin'),\n",
              " (53083, 'hepo'),\n",
              " (27649, 'wildcat'),\n",
              " (10584, 'venoms'),\n",
              " (52191, 'misconstrues'),\n",
              " (18514, 'mesmerising'),\n",
              " (40908, 'misconstrued'),\n",
              " (52192, 'rescinds'),\n",
              " (52193, 'prostrate'),\n",
              " (40909, 'majid'),\n",
              " (16479, 'climbed'),\n",
              " (34731, 'canoeing'),\n",
              " (52195, 'majin'),\n",
              " (57804, 'animie'),\n",
              " (40910, 'sylke'),\n",
              " (14899, 'conditioned'),\n",
              " (40911, 'waddell'),\n",
              " (52196, '3\\x85'),\n",
              " (41188, 'hyperdrive'),\n",
              " (34732, 'conditioner'),\n",
              " (53153, 'bricklayer'),\n",
              " (2576, 'hong'),\n",
              " (52198, 'memoriam'),\n",
              " (30592, 'inventively'),\n",
              " (25249, \"levant's\"),\n",
              " (20638, 'portobello'),\n",
              " (52200, 'remand'),\n",
              " (19504, 'mummified'),\n",
              " (27650, 'honk'),\n",
              " (19505, 'spews'),\n",
              " (40912, 'visitations'),\n",
              " (52201, 'mummifies'),\n",
              " (25250, 'cavanaugh'),\n",
              " (23385, 'zeon'),\n",
              " (40913, \"jungle's\"),\n",
              " (34733, 'viertel'),\n",
              " (27651, 'frenchmen'),\n",
              " (52202, 'torpedoes'),\n",
              " (52203, 'schlessinger'),\n",
              " (34734, 'torpedoed'),\n",
              " (69876, 'blister'),\n",
              " (52204, 'cinefest'),\n",
              " (34735, 'furlough'),\n",
              " (52205, 'mainsequence'),\n",
              " (40914, 'mentors'),\n",
              " (9094, 'academic'),\n",
              " (20602, 'stillness'),\n",
              " (40915, 'academia'),\n",
              " (52206, 'lonelier'),\n",
              " (52207, 'nibby'),\n",
              " (52208, \"losers'\"),\n",
              " (40916, 'cineastes'),\n",
              " (4449, 'corporate'),\n",
              " (40917, 'massaging'),\n",
              " (30593, 'bellow'),\n",
              " (19506, 'absurdities'),\n",
              " (53241, 'expetations'),\n",
              " (40918, 'nyfiken'),\n",
              " (75638, 'mehras'),\n",
              " (52209, 'lasse'),\n",
              " (52210, 'visability'),\n",
              " (33946, 'militarily'),\n",
              " (52211, \"elder'\"),\n",
              " (19023, 'gainsbourg'),\n",
              " (20603, 'hah'),\n",
              " (13420, 'hai'),\n",
              " (34736, 'haj'),\n",
              " (25251, 'hak'),\n",
              " (4311, 'hal'),\n",
              " (4892, 'ham'),\n",
              " (53259, 'duffer'),\n",
              " (52213, 'haa'),\n",
              " (66, 'had'),\n",
              " (11930, 'advancement'),\n",
              " (16825, 'hag'),\n",
              " (25252, \"hand'\"),\n",
              " (13421, 'hay'),\n",
              " (20604, 'mcnamara'),\n",
              " (52214, \"mozart's\"),\n",
              " (30731, 'duffel'),\n",
              " (30594, 'haq'),\n",
              " (13887, 'har'),\n",
              " (44, 'has'),\n",
              " (2401, 'hat'),\n",
              " (40919, 'hav'),\n",
              " (30595, 'haw'),\n",
              " (52215, 'figtings'),\n",
              " (15495, 'elders'),\n",
              " (52216, 'underpanted'),\n",
              " (52217, 'pninson'),\n",
              " (27652, 'unequivocally'),\n",
              " (23673, \"barbara's\"),\n",
              " (52219, \"bello'\"),\n",
              " (12997, 'indicative'),\n",
              " (40920, 'yawnfest'),\n",
              " (52220, 'hexploitation'),\n",
              " (52221, \"loder's\"),\n",
              " (27653, 'sleuthing'),\n",
              " (32622, \"justin's\"),\n",
              " (52222, \"'ball\"),\n",
              " (52223, \"'summer\"),\n",
              " (34935, \"'demons'\"),\n",
              " (52225, \"mormon's\"),\n",
              " (34737, \"laughton's\"),\n",
              " (52226, 'debell'),\n",
              " (39724, 'shipyard'),\n",
              " (30597, 'unabashedly'),\n",
              " (40401, 'disks'),\n",
              " (2290, 'crowd'),\n",
              " (10087, 'crowe'),\n",
              " (56434, \"vancouver's\"),\n",
              " (34738, 'mosques'),\n",
              " (6627, 'crown'),\n",
              " (52227, 'culpas'),\n",
              " (27654, 'crows'),\n",
              " (53344, 'surrell'),\n",
              " (52229, 'flowless'),\n",
              " (52230, 'sheirk'),\n",
              " (40923, \"'three\"),\n",
              " (52231, \"peterson'\"),\n",
              " (52232, 'ooverall'),\n",
              " (40924, 'perchance'),\n",
              " (1321, 'bottom'),\n",
              " (53363, 'chabert'),\n",
              " (52233, 'sneha'),\n",
              " (13888, 'inhuman'),\n",
              " (52234, 'ichii'),\n",
              " (52235, 'ursla'),\n",
              " (30598, 'completly'),\n",
              " (40925, 'moviedom'),\n",
              " (52236, 'raddick'),\n",
              " (51995, 'brundage'),\n",
              " (40926, 'brigades'),\n",
              " (1181, 'starring'),\n",
              " (52237, \"'goal'\"),\n",
              " (52238, 'caskets'),\n",
              " (52239, 'willcock'),\n",
              " (52240, \"threesome's\"),\n",
              " (52241, \"mosque'\"),\n",
              " (52242, \"cover's\"),\n",
              " (17637, 'spaceships'),\n",
              " (40927, 'anomalous'),\n",
              " (27655, 'ptsd'),\n",
              " (52243, 'shirdan'),\n",
              " (21962, 'obscenity'),\n",
              " (30599, 'lemmings'),\n",
              " (30600, 'duccio'),\n",
              " (52244, \"levene's\"),\n",
              " (52245, \"'gorby'\"),\n",
              " (25255, \"teenager's\"),\n",
              " (5340, 'marshall'),\n",
              " (9095, 'honeymoon'),\n",
              " (3231, 'shoots'),\n",
              " (12258, 'despised'),\n",
              " (52246, 'okabasho'),\n",
              " (8289, 'fabric'),\n",
              " (18515, 'cannavale'),\n",
              " (3537, 'raped'),\n",
              " (52247, \"tutt's\"),\n",
              " (17638, 'grasping'),\n",
              " (18516, 'despises'),\n",
              " (40928, \"thief's\"),\n",
              " (8926, 'rapes'),\n",
              " (52248, 'raper'),\n",
              " (27656, \"eyre'\"),\n",
              " (52249, 'walchek'),\n",
              " (23386, \"elmo's\"),\n",
              " (40929, 'perfumes'),\n",
              " (21918, 'spurting'),\n",
              " (52250, \"exposition'\\x85\"),\n",
              " (52251, 'denoting'),\n",
              " (34740, 'thesaurus'),\n",
              " (40930, \"shoot'\"),\n",
              " (49759, 'bonejack'),\n",
              " (52253, 'simpsonian'),\n",
              " (30601, 'hebetude'),\n",
              " (34741, \"hallow's\"),\n",
              " (52254, 'desperation\\x85'),\n",
              " (34742, 'incinerator'),\n",
              " (10308, 'congratulations'),\n",
              " (52255, 'humbled'),\n",
              " (5924, \"else's\"),\n",
              " (40845, 'trelkovski'),\n",
              " (52256, \"rape'\"),\n",
              " (59386, \"'chapters'\"),\n",
              " (52257, '1600s'),\n",
              " (7253, 'martian'),\n",
              " (25256, 'nicest'),\n",
              " (52259, 'eyred'),\n",
              " (9457, 'passenger'),\n",
              " (6041, 'disgrace'),\n",
              " (52260, 'moderne'),\n",
              " (5120, 'barrymore'),\n",
              " (52261, 'yankovich'),\n",
              " (40931, 'moderns'),\n",
              " (52262, 'studliest'),\n",
              " (52263, 'bedsheet'),\n",
              " (14900, 'decapitation'),\n",
              " (52264, 'slurring'),\n",
              " (52265, \"'nunsploitation'\"),\n",
              " (34743, \"'character'\"),\n",
              " (9880, 'cambodia'),\n",
              " (52266, 'rebelious'),\n",
              " (27657, 'pasadena'),\n",
              " (40932, 'crowne'),\n",
              " (52267, \"'bedchamber\"),\n",
              " (52268, 'conjectural'),\n",
              " (52269, 'appologize'),\n",
              " (52270, 'halfassing'),\n",
              " (57816, 'paycheque'),\n",
              " (20606, 'palms'),\n",
              " (52271, \"'islands\"),\n",
              " (40933, 'hawked'),\n",
              " (21919, 'palme'),\n",
              " (40934, 'conservatively'),\n",
              " (64007, 'larp'),\n",
              " (5558, 'palma'),\n",
              " (21920, 'smelling'),\n",
              " (12998, 'aragorn'),\n",
              " (52272, 'hawker'),\n",
              " (52273, 'hawkes'),\n",
              " (3975, 'explosions'),\n",
              " (8059, 'loren'),\n",
              " (52274, \"pyle's\"),\n",
              " (6704, 'shootout'),\n",
              " (18517, \"mike's\"),\n",
              " (52275, \"driscoll's\"),\n",
              " (40935, 'cogsworth'),\n",
              " (52276, \"britian's\"),\n",
              " (34744, 'childs'),\n",
              " (52277, \"portrait's\"),\n",
              " (3626, 'chain'),\n",
              " (2497, 'whoever'),\n",
              " (52278, 'puttered'),\n",
              " (52279, 'childe'),\n",
              " (52280, 'maywether'),\n",
              " (3036, 'chair'),\n",
              " (52281, \"rance's\"),\n",
              " (34745, 'machu'),\n",
              " (4517, 'ballet'),\n",
              " (34746, 'grapples'),\n",
              " (76152, 'summerize'),\n",
              " (30603, 'freelance'),\n",
              " (52283, \"andrea's\"),\n",
              " (52284, '\\x91very'),\n",
              " (45879, 'coolidge'),\n",
              " (18518, 'mache'),\n",
              " (52285, 'balled'),\n",
              " (40937, 'grappled'),\n",
              " (18519, 'macha'),\n",
              " (21921, 'underlining'),\n",
              " (5623, 'macho'),\n",
              " (19507, 'oversight'),\n",
              " (25257, 'machi'),\n",
              " (11311, 'verbally'),\n",
              " (21922, 'tenacious'),\n",
              " (40938, 'windshields'),\n",
              " (18557, 'paychecks'),\n",
              " (3396, 'jerk'),\n",
              " (11931, \"good'\"),\n",
              " (34748, 'prancer'),\n",
              " (21923, 'prances'),\n",
              " (52286, 'olympus'),\n",
              " (21924, 'lark'),\n",
              " (10785, 'embark'),\n",
              " (7365, 'gloomy'),\n",
              " (52287, 'jehaan'),\n",
              " (52288, 'turaqui'),\n",
              " (20607, \"child'\"),\n",
              " (2894, 'locked'),\n",
              " (52289, 'pranced'),\n",
              " (2588, 'exact'),\n",
              " (52290, 'unattuned'),\n",
              " (783, 'minute'),\n",
              " (16118, 'skewed'),\n",
              " (40940, 'hodgins'),\n",
              " (34749, 'skewer'),\n",
              " (52291, 'think\\x85'),\n",
              " (38765, 'rosenstein'),\n",
              " (52292, 'helmit'),\n",
              " (34750, 'wrestlemanias'),\n",
              " (16826, 'hindered'),\n",
              " (30604, \"martha's\"),\n",
              " (52293, 'cheree'),\n",
              " (52294, \"pluckin'\"),\n",
              " (40941, 'ogles'),\n",
              " (11932, 'heavyweight'),\n",
              " (82190, 'aada'),\n",
              " (11312, 'chopping'),\n",
              " (61534, 'strongboy'),\n",
              " (41342, 'hegemonic'),\n",
              " (40942, 'adorns'),\n",
              " (41346, 'xxth'),\n",
              " (34751, 'nobuhiro'),\n",
              " (52298, 'capitães'),\n",
              " (52299, 'kavogianni'),\n",
              " (13422, 'antwerp'),\n",
              " (6538, 'celebrated'),\n",
              " (52300, 'roarke'),\n",
              " (40943, 'baggins'),\n",
              " (31270, 'cheeseburgers'),\n",
              " (52301, 'matras'),\n",
              " (52302, \"nineties'\"),\n",
              " (52303, \"'craig'\"),\n",
              " (12999, 'celebrates'),\n",
              " (3383, 'unintentionally'),\n",
              " (14362, 'drafted'),\n",
              " (52304, 'climby'),\n",
              " (52305, '303'),\n",
              " (18520, 'oldies'),\n",
              " (9096, 'climbs'),\n",
              " (9655, 'honour'),\n",
              " (34752, 'plucking'),\n",
              " (30074, '305'),\n",
              " (5514, 'address'),\n",
              " (40944, 'menjou'),\n",
              " (42592, \"'freak'\"),\n",
              " (19508, 'dwindling'),\n",
              " (9458, 'benson'),\n",
              " (52307, 'white’s'),\n",
              " (40945, 'shamelessness'),\n",
              " (21925, 'impacted'),\n",
              " (52308, 'upatz'),\n",
              " (3840, 'cusack'),\n",
              " (37567, \"flavia's\"),\n",
              " (52309, 'effette'),\n",
              " (34753, 'influx'),\n",
              " (52310, 'boooooooo'),\n",
              " (52311, 'dimitrova'),\n",
              " (13423, 'houseman'),\n",
              " (25259, 'bigas'),\n",
              " (52312, 'boylen'),\n",
              " (52313, 'phillipenes'),\n",
              " (40946, 'fakery'),\n",
              " (27658, \"grandpa's\"),\n",
              " (27659, 'darnell'),\n",
              " (19509, 'undergone'),\n",
              " (52315, 'handbags'),\n",
              " (21926, 'perished'),\n",
              " (37778, 'pooped'),\n",
              " (27660, 'vigour'),\n",
              " (3627, 'opposed'),\n",
              " (52316, 'etude'),\n",
              " (11799, \"caine's\"),\n",
              " (52317, 'doozers'),\n",
              " (34754, 'photojournals'),\n",
              " (52318, 'perishes'),\n",
              " (34755, 'constrains'),\n",
              " (40948, 'migenes'),\n",
              " (30605, 'consoled'),\n",
              " (16827, 'alastair'),\n",
              " (52319, 'wvs'),\n",
              " (52320, 'ooooooh'),\n",
              " (34756, 'approving'),\n",
              " (40949, 'consoles'),\n",
              " (52064, 'disparagement'),\n",
              " (52322, 'futureistic'),\n",
              " (52323, 'rebounding'),\n",
              " (52324, \"'date\"),\n",
              " (52325, 'gregoire'),\n",
              " (21927, 'rutherford'),\n",
              " (34757, 'americanised'),\n",
              " (82196, 'novikov'),\n",
              " (1042, 'following'),\n",
              " (34758, 'munroe'),\n",
              " (52326, \"morita'\"),\n",
              " (52327, 'christenssen'),\n",
              " (23106, 'oatmeal'),\n",
              " (25260, 'fossey'),\n",
              " (40950, 'livered'),\n",
              " (13000, 'listens'),\n",
              " (76164, \"'marci\"),\n",
              " (52330, \"otis's\"),\n",
              " (23387, 'thanking'),\n",
              " (16019, 'maude'),\n",
              " (34759, 'extensions'),\n",
              " (52332, 'ameteurish'),\n",
              " (52333, \"commender's\"),\n",
              " (27661, 'agricultural'),\n",
              " (4518, 'convincingly'),\n",
              " (17639, 'fueled'),\n",
              " (54014, 'mahattan'),\n",
              " (40952, \"paris's\"),\n",
              " (52336, 'vulkan'),\n",
              " (52337, 'stapes'),\n",
              " (52338, 'odysessy'),\n",
              " (12259, 'harmon'),\n",
              " (4252, 'surfing'),\n",
              " (23494, 'halloran'),\n",
              " (49580, 'unbelieveably'),\n",
              " (52339, \"'offed'\"),\n",
              " (30607, 'quadrant'),\n",
              " (19510, 'inhabiting'),\n",
              " (34760, 'nebbish'),\n",
              " (40953, 'forebears'),\n",
              " (34761, 'skirmish'),\n",
              " (52340, 'ocassionally'),\n",
              " (52341, \"'resist\"),\n",
              " (21928, 'impactful'),\n",
              " (52342, 'spicier'),\n",
              " (40954, 'touristy'),\n",
              " (52343, \"'football'\"),\n",
              " (40955, 'webpage'),\n",
              " (52345, 'exurbia'),\n",
              " (52346, 'jucier'),\n",
              " (14901, 'professors'),\n",
              " (34762, 'structuring'),\n",
              " (30608, 'jig'),\n",
              " (40956, 'overlord'),\n",
              " (25261, 'disconnect'),\n",
              " (82201, 'sniffle'),\n",
              " (40957, 'slimeball'),\n",
              " (40958, 'jia'),\n",
              " (16828, 'milked'),\n",
              " (40959, 'banjoes'),\n",
              " (1237, 'jim'),\n",
              " (52348, 'workforces'),\n",
              " (52349, 'jip'),\n",
              " (52350, 'rotweiller'),\n",
              " (34763, 'mundaneness'),\n",
              " (52351, \"'ninja'\"),\n",
              " (11040, \"dead'\"),\n",
              " (40960, \"cipriani's\"),\n",
              " (20608, 'modestly'),\n",
              " (52352, \"professor'\"),\n",
              " (40961, 'shacked'),\n",
              " (34764, 'bashful'),\n",
              " (23388, 'sorter'),\n",
              " (16120, 'overpowering'),\n",
              " (18521, 'workmanlike'),\n",
              " (27662, 'henpecked'),\n",
              " (18522, 'sorted'),\n",
              " (52354, \"jōb's\"),\n",
              " (52355, \"'always\"),\n",
              " (34765, \"'baptists\"),\n",
              " (52356, 'dreamcatchers'),\n",
              " (52357, \"'silence'\"),\n",
              " (21929, 'hickory'),\n",
              " (52358, 'fun\\x97yet'),\n",
              " (52359, 'breakumentary'),\n",
              " (15496, 'didn'),\n",
              " (52360, 'didi'),\n",
              " (52361, 'pealing'),\n",
              " (40962, 'dispite'),\n",
              " (25262, \"italy's\"),\n",
              " (21930, 'instability'),\n",
              " (6539, 'quarter'),\n",
              " (12608, 'quartet'),\n",
              " (52362, 'padmé'),\n",
              " (52363, \"'bleedmedry\"),\n",
              " (52364, 'pahalniuk'),\n",
              " (52365, 'honduras'),\n",
              " (10786, 'bursting'),\n",
              " (41465, \"pablo's\"),\n",
              " (52367, 'irremediably'),\n",
              " (40963, 'presages'),\n",
              " (57832, 'bowlegged'),\n",
              " (65183, 'dalip'),\n",
              " (6260, 'entering'),\n",
              " (76172, 'newsradio'),\n",
              " (54150, 'presaged'),\n",
              " (27663, \"giallo's\"),\n",
              " (40964, 'bouyant'),\n",
              " (52368, 'amerterish'),\n",
              " (18523, 'rajni'),\n",
              " (30610, 'leeves'),\n",
              " (34767, 'macauley'),\n",
              " (612, 'seriously'),\n",
              " (52369, 'sugercoma'),\n",
              " (52370, 'grimstead'),\n",
              " (52371, \"'fairy'\"),\n",
              " (30611, 'zenda'),\n",
              " (52372, \"'twins'\"),\n",
              " (17640, 'realisation'),\n",
              " (27664, 'highsmith'),\n",
              " (7817, 'raunchy'),\n",
              " (40965, 'incentives'),\n",
              " (52374, 'flatson'),\n",
              " (35097, 'snooker'),\n",
              " (16829, 'crazies'),\n",
              " (14902, 'crazier'),\n",
              " (7094, 'grandma'),\n",
              " (52375, 'napunsaktha'),\n",
              " (30612, 'workmanship'),\n",
              " (52376, 'reisner'),\n",
              " (61306, \"sanford's\"),\n",
              " (52377, '\\x91doña'),\n",
              " (6108, 'modest'),\n",
              " (19153, \"everything's\"),\n",
              " (40966, 'hamer'),\n",
              " (52379, \"couldn't'\"),\n",
              " (13001, 'quibble'),\n",
              " (52380, 'socking'),\n",
              " (21931, 'tingler'),\n",
              " (52381, 'gutman'),\n",
              " (40967, 'lachlan'),\n",
              " (52382, 'tableaus'),\n",
              " (52383, 'headbanger'),\n",
              " (2847, 'spoken'),\n",
              " (34768, 'cerebrally'),\n",
              " (23490, \"'road\"),\n",
              " (21932, 'tableaux'),\n",
              " (40968, \"proust's\"),\n",
              " (40969, 'periodical'),\n",
              " (52385, \"shoveller's\"),\n",
              " (25263, 'tamara'),\n",
              " (17641, 'affords'),\n",
              " (3249, 'concert'),\n",
              " (87955, \"yara's\"),\n",
              " (52386, 'someome'),\n",
              " (8424, 'lingering'),\n",
              " (41511, \"abraham's\"),\n",
              " (34769, 'beesley'),\n",
              " (34770, 'cherbourg'),\n",
              " (28624, 'kagan'),\n",
              " (9097, 'snatch'),\n",
              " (9260, \"miyazaki's\"),\n",
              " (25264, 'absorbs'),\n",
              " (40970, \"koltai's\"),\n",
              " (64027, 'tingled'),\n",
              " (19511, 'crossroads'),\n",
              " (16121, 'rehab'),\n",
              " (52389, 'falworth'),\n",
              " (52390, 'sequals'),\n",
              " ...]"
            ]
          },
          "metadata": {},
          "execution_count": 28
        }
      ]
    },
    {
      "cell_type": "code",
      "execution_count": 29,
      "metadata": {
        "id": "lycve55iR54E"
      },
      "outputs": [],
      "source": [
        "word_index = imdb.get_word_index()      # number to word mapping\n",
        "reverse_word_index = dict(\n",
        "    [(value, key) for (key, value) in word_index.items()])\n",
        "decoded_review = \" \".join(\n",
        "    [reverse_word_index.get(i - 3, \"?\") for i in train_data[0]])"
      ]
    },
    {
      "cell_type": "code",
      "source": [
        "decoded_review"
      ],
      "metadata": {
        "id": "axBRbFPgSzbB",
        "outputId": "5407a7a0-2fa1-4192-abf8-8b7882459267",
        "colab": {
          "base_uri": "https://localhost:8080/",
          "height": 164
        }
      },
      "execution_count": 30,
      "outputs": [
        {
          "output_type": "execute_result",
          "data": {
            "text/plain": [
              "\"? this film was just brilliant casting location scenery story direction everyone's really suited the part they played and you could just imagine being there robert ? is an amazing actor and now the same being director ? father came from the same scottish island as myself so i loved the fact there was a real connection with this film the witty remarks throughout the film were great it was just brilliant so much that i bought the film as soon as it was released for ? and would recommend it to everyone to watch and the fly fishing was amazing really cried at the end it was so sad and you know what they say if you cry at a film it must have been good and this definitely was also ? to the two little boy's that played the ? of norman and paul they were just brilliant children are often left out of the ? list i think because the stars that play them all grown up are such a big profile for the whole film but these children are amazing and should be praised for what they have done don't you think the whole story was so lovely because it was true and was someone's life after all that was shared with us all\""
            ],
            "application/vnd.google.colaboratory.intrinsic+json": {
              "type": "string"
            }
          },
          "metadata": {},
          "execution_count": 30
        }
      ]
    },
    {
      "cell_type": "code",
      "source": [
        "word_index['sorted']"
      ],
      "metadata": {
        "id": "NPDZwwaVSlDC",
        "outputId": "88e05748-3d54-4e35-ada2-9ac0843dc160",
        "colab": {
          "base_uri": "https://localhost:8080/"
        }
      },
      "execution_count": 31,
      "outputs": [
        {
          "output_type": "execute_result",
          "data": {
            "text/plain": [
              "18522"
            ]
          },
          "metadata": {},
          "execution_count": 31
        }
      ]
    },
    {
      "cell_type": "code",
      "source": [
        "reverse_word_index[18522]"
      ],
      "metadata": {
        "id": "3c6JVV6vSrsO",
        "outputId": "6d7eeaae-76fa-4328-c2b7-ae2cb4cf244b",
        "colab": {
          "base_uri": "https://localhost:8080/",
          "height": 36
        }
      },
      "execution_count": 32,
      "outputs": [
        {
          "output_type": "execute_result",
          "data": {
            "text/plain": [
              "'sorted'"
            ],
            "application/vnd.google.colaboratory.intrinsic+json": {
              "type": "string"
            }
          },
          "metadata": {},
          "execution_count": 32
        }
      ]
    },
    {
      "cell_type": "markdown",
      "metadata": {
        "id": "j7e90rw7R54E"
      },
      "source": [
        "### Preparing the data"
      ]
    },
    {
      "cell_type": "markdown",
      "metadata": {
        "id": "Y1ctmMAMR54F"
      },
      "source": [
        "**Encoding the integer sequences via multi-hot encoding**"
      ]
    },
    {
      "cell_type": "code",
      "execution_count": 33,
      "metadata": {
        "id": "u6vIjyIwR54F"
      },
      "outputs": [],
      "source": [
        "import numpy as np\n",
        "def vectorize_sequences(sequences, dimension=10000):\n",
        "    results = np.zeros((len(sequences), dimension))\n",
        "    for i, sequence in enumerate(sequences):\n",
        "        for j in sequence:\n",
        "            results[i, j] = 1.\n",
        "    return results\n",
        "x_train = vectorize_sequences(train_data)\n",
        "x_test = vectorize_sequences(test_data)"
      ]
    },
    {
      "cell_type": "code",
      "execution_count": 34,
      "metadata": {
        "id": "DtRI6VTJR54G",
        "outputId": "06899bb1-bab1-4953-d908-20694d21d4ab",
        "colab": {
          "base_uri": "https://localhost:8080/"
        }
      },
      "outputs": [
        {
          "output_type": "execute_result",
          "data": {
            "text/plain": [
              "array([0., 1., 1., ..., 0., 0., 0.])"
            ]
          },
          "metadata": {},
          "execution_count": 34
        }
      ],
      "source": [
        "x_train[0]"
      ]
    },
    {
      "cell_type": "code",
      "source": [
        "x_train.shape()"
      ],
      "metadata": {
        "id": "m4i6HZ4PUGs-",
        "outputId": "bf244d59-07bd-45d8-f01f-da39b5828755",
        "colab": {
          "base_uri": "https://localhost:8080/",
          "height": 148
        }
      },
      "execution_count": 87,
      "outputs": [
        {
          "output_type": "error",
          "ename": "TypeError",
          "evalue": "'tuple' object is not callable",
          "traceback": [
            "\u001b[0;31m---------------------------------------------------------------------------\u001b[0m",
            "\u001b[0;31mTypeError\u001b[0m                                 Traceback (most recent call last)",
            "\u001b[0;32m<ipython-input-87-d85548492a24>\u001b[0m in \u001b[0;36m<cell line: 1>\u001b[0;34m()\u001b[0m\n\u001b[0;32m----> 1\u001b[0;31m \u001b[0mx_train\u001b[0m\u001b[0;34m.\u001b[0m\u001b[0mshape\u001b[0m\u001b[0;34m(\u001b[0m\u001b[0;34m)\u001b[0m\u001b[0;34m\u001b[0m\u001b[0;34m\u001b[0m\u001b[0m\n\u001b[0m",
            "\u001b[0;31mTypeError\u001b[0m: 'tuple' object is not callable"
          ]
        }
      ]
    },
    {
      "cell_type": "code",
      "execution_count": null,
      "metadata": {
        "id": "bsnQ_LyhR54G"
      },
      "outputs": [],
      "source": [
        "y_train = np.asarray(train_labels).astype(\"float32\")\n",
        "y_test = np.asarray(test_labels).astype(\"float32\")"
      ]
    },
    {
      "cell_type": "markdown",
      "metadata": {
        "id": "BthRkg7xR54H"
      },
      "source": [
        "### Building your model"
      ]
    },
    {
      "cell_type": "markdown",
      "metadata": {
        "id": "JezRZMgLR54H"
      },
      "source": [
        "**Model definition**"
      ]
    },
    {
      "cell_type": "code",
      "execution_count": 97,
      "metadata": {
        "id": "7jtGu0G2R54H"
      },
      "outputs": [],
      "source": [
        "from tensorflow import keras\n",
        "from tensorflow.keras import layers\n",
        "\n",
        "model = keras.Sequential([\n",
        "    layers.Dense(3, activation=\"sigmoid\")\n",
        "])"
      ]
    },
    {
      "cell_type": "markdown",
      "metadata": {
        "id": "QgGSwlYgR54I"
      },
      "source": [
        "**Compiling the model**"
      ]
    },
    {
      "cell_type": "code",
      "execution_count": 37,
      "metadata": {
        "id": "E2ik0PajR54I"
      },
      "outputs": [],
      "source": [
        "model.compile(optimizer=\"rmsprop\",\n",
        "              loss=\"binary_crossentropy\",\n",
        "              metrics=[\"accuracy\"])"
      ]
    },
    {
      "cell_type": "markdown",
      "metadata": {
        "id": "MmgX3MltR54J"
      },
      "source": [
        "### Validating your approach"
      ]
    },
    {
      "cell_type": "markdown",
      "metadata": {
        "id": "CoQcDCb7R54J"
      },
      "source": [
        "**Setting aside a validation set**"
      ]
    },
    {
      "cell_type": "code",
      "execution_count": 38,
      "metadata": {
        "id": "fOn8mgNGR54J"
      },
      "outputs": [],
      "source": [
        "x_val = x_train[:10000]\n",
        "partial_x_train = x_train[10000:]\n",
        "y_val = y_train[:10000]\n",
        "partial_y_train = y_train[10000:]"
      ]
    },
    {
      "cell_type": "markdown",
      "metadata": {
        "id": "S9FNvw-0R54K"
      },
      "source": [
        "**Training your model**"
      ]
    },
    {
      "cell_type": "code",
      "execution_count": 39,
      "metadata": {
        "id": "7CITNhSzR54K",
        "outputId": "0c2d7740-081c-4698-b01a-863d704e5170",
        "colab": {
          "base_uri": "https://localhost:8080/"
        }
      },
      "outputs": [
        {
          "output_type": "stream",
          "name": "stdout",
          "text": [
            "Epoch 1/20\n",
            "30/30 [==============================] - 4s 82ms/step - loss: 0.5363 - accuracy: 0.7892 - val_loss: 0.4146 - val_accuracy: 0.8643\n",
            "Epoch 2/20\n",
            "30/30 [==============================] - 2s 52ms/step - loss: 0.3413 - accuracy: 0.8897 - val_loss: 0.3283 - val_accuracy: 0.8781\n",
            "Epoch 3/20\n",
            "30/30 [==============================] - 1s 38ms/step - loss: 0.2581 - accuracy: 0.9143 - val_loss: 0.3196 - val_accuracy: 0.8707\n",
            "Epoch 4/20\n",
            "30/30 [==============================] - 1s 44ms/step - loss: 0.2097 - accuracy: 0.9297 - val_loss: 0.2816 - val_accuracy: 0.8875\n",
            "Epoch 5/20\n",
            "30/30 [==============================] - 2s 53ms/step - loss: 0.1767 - accuracy: 0.9405 - val_loss: 0.3047 - val_accuracy: 0.8754\n",
            "Epoch 6/20\n",
            "30/30 [==============================] - 1s 34ms/step - loss: 0.1503 - accuracy: 0.9513 - val_loss: 0.2854 - val_accuracy: 0.8857\n",
            "Epoch 7/20\n",
            "30/30 [==============================] - 1s 46ms/step - loss: 0.1298 - accuracy: 0.9598 - val_loss: 0.2883 - val_accuracy: 0.8863\n",
            "Epoch 8/20\n",
            "30/30 [==============================] - 2s 55ms/step - loss: 0.1134 - accuracy: 0.9648 - val_loss: 0.3297 - val_accuracy: 0.8792\n",
            "Epoch 9/20\n",
            "30/30 [==============================] - 2s 51ms/step - loss: 0.0962 - accuracy: 0.9725 - val_loss: 0.3128 - val_accuracy: 0.8821\n",
            "Epoch 10/20\n",
            "30/30 [==============================] - 2s 54ms/step - loss: 0.0833 - accuracy: 0.9778 - val_loss: 0.3296 - val_accuracy: 0.8812\n",
            "Epoch 11/20\n",
            "30/30 [==============================] - 1s 34ms/step - loss: 0.0729 - accuracy: 0.9807 - val_loss: 0.3502 - val_accuracy: 0.8803\n",
            "Epoch 12/20\n",
            "30/30 [==============================] - 1s 46ms/step - loss: 0.0626 - accuracy: 0.9855 - val_loss: 0.3805 - val_accuracy: 0.8764\n",
            "Epoch 13/20\n",
            "30/30 [==============================] - 1s 36ms/step - loss: 0.0551 - accuracy: 0.9879 - val_loss: 0.3827 - val_accuracy: 0.8741\n",
            "Epoch 14/20\n",
            "30/30 [==============================] - 1s 50ms/step - loss: 0.0440 - accuracy: 0.9919 - val_loss: 0.4025 - val_accuracy: 0.8765\n",
            "Epoch 15/20\n",
            "30/30 [==============================] - 1s 35ms/step - loss: 0.0378 - accuracy: 0.9926 - val_loss: 0.4349 - val_accuracy: 0.8683\n",
            "Epoch 16/20\n",
            "30/30 [==============================] - 1s 34ms/step - loss: 0.0315 - accuracy: 0.9953 - val_loss: 0.4441 - val_accuracy: 0.8736\n",
            "Epoch 17/20\n",
            "30/30 [==============================] - 1s 48ms/step - loss: 0.0288 - accuracy: 0.9953 - val_loss: 0.4655 - val_accuracy: 0.8719\n",
            "Epoch 18/20\n",
            "30/30 [==============================] - 2s 62ms/step - loss: 0.0223 - accuracy: 0.9975 - val_loss: 0.4904 - val_accuracy: 0.8698\n",
            "Epoch 19/20\n",
            "30/30 [==============================] - 1s 41ms/step - loss: 0.0182 - accuracy: 0.9981 - val_loss: 0.5261 - val_accuracy: 0.8717\n",
            "Epoch 20/20\n",
            "30/30 [==============================] - 1s 33ms/step - loss: 0.0173 - accuracy: 0.9981 - val_loss: 0.5348 - val_accuracy: 0.8667\n"
          ]
        }
      ],
      "source": [
        "history = model.fit(partial_x_train,\n",
        "                    partial_y_train,\n",
        "                    epochs=20,\n",
        "                    batch_size=512,\n",
        "                    validation_data=(x_val, y_val))"
      ]
    },
    {
      "cell_type": "code",
      "execution_count": 40,
      "metadata": {
        "id": "b6Wl1iJFR54K",
        "outputId": "1c1c8b15-2d6b-4184-b672-d7ff9c802f14",
        "colab": {
          "base_uri": "https://localhost:8080/"
        }
      },
      "outputs": [
        {
          "output_type": "execute_result",
          "data": {
            "text/plain": [
              "dict_keys(['loss', 'accuracy', 'val_loss', 'val_accuracy'])"
            ]
          },
          "metadata": {},
          "execution_count": 40
        }
      ],
      "source": [
        "history_dict = history.history\n",
        "history_dict.keys()"
      ]
    },
    {
      "cell_type": "markdown",
      "metadata": {
        "id": "I9bZ2rTCR54K"
      },
      "source": [
        "**Plotting the training and validation loss**"
      ]
    },
    {
      "cell_type": "code",
      "execution_count": 41,
      "metadata": {
        "id": "caepf-_2R54L",
        "outputId": "84467acb-8a2a-4b3a-8cd9-6888d476bcf0",
        "colab": {
          "base_uri": "https://localhost:8080/",
          "height": 472
        }
      },
      "outputs": [
        {
          "output_type": "display_data",
          "data": {
            "text/plain": [
              "<Figure size 640x480 with 1 Axes>"
            ],
            "image/png": "[encoded data removed]"
          },
          "metadata": {}
        }
      ],
      "source": [
        "import matplotlib.pyplot as plt\n",
        "history_dict = history.history\n",
        "loss_values = history_dict[\"loss\"]\n",
        "val_loss_values = history_dict[\"val_loss\"]\n",
        "epochs = range(1, len(loss_values) + 1)\n",
        "plt.plot(epochs, loss_values, \"bo\", label=\"Training loss\")\n",
        "plt.plot(epochs, val_loss_values, \"b\", label=\"Validation loss\")\n",
        "plt.title(\"Training and validation loss\")\n",
        "plt.xlabel(\"Epochs\")\n",
        "plt.ylabel(\"Loss\")\n",
        "plt.legend()\n",
        "plt.show()"
      ]
    },
    {
      "cell_type": "markdown",
      "metadata": {
        "id": "1KAmNSkkR54L"
      },
      "source": [
        "**Plotting the training and validation accuracy**"
      ]
    },
    {
      "cell_type": "code",
      "execution_count": 42,
      "metadata": {
        "id": "8GLq-uGUR54L",
        "outputId": "e3b3ae15-7f51-4880-c132-e27089f81cc2",
        "colab": {
          "base_uri": "https://localhost:8080/",
          "height": 472
        }
      },
      "outputs": [
        {
          "output_type": "display_data",
          "data": {
            "text/plain": [
              "<Figure size 640x480 with 1 Axes>"
            ],
            "image/png": "[encoded data removed]"
          },
          "metadata": {}
        }
      ],
      "source": [
        "plt.clf()\n",
        "acc = history_dict[\"accuracy\"]\n",
        "val_acc = history_dict[\"val_accuracy\"]\n",
        "plt.plot(epochs, acc, \"bo\", label=\"Training acc\")\n",
        "plt.plot(epochs, val_acc, \"b\", label=\"Validation acc\")\n",
        "plt.title(\"Training and validation accuracy\")\n",
        "plt.xlabel(\"Epochs\")\n",
        "plt.ylabel(\"Accuracy\")\n",
        "plt.legend()\n",
        "plt.show()"
      ]
    },
    {
      "cell_type": "markdown",
      "metadata": {
        "id": "a_FvNAgoR54M"
      },
      "source": [
        "**Retraining a model from scratch**"
      ]
    },
    {
      "cell_type": "code",
      "execution_count": 105,
      "metadata": {
        "id": "qBRl6kabR54M",
        "outputId": "62e3bb06-60b3-48d7-f295-08701fbbdce4",
        "colab": {
          "base_uri": "https://localhost:8080/"
        }
      },
      "outputs": [
        {
          "output_type": "stream",
          "name": "stdout",
          "text": [
            "Epoch 1/4\n",
            "18/18 [==============================] - 1s 16ms/step - loss: -10.1349 - accuracy: 0.0471\n",
            "Epoch 2/4\n",
            "18/18 [==============================] - 0s 14ms/step - loss: -24.8087 - accuracy: 0.0481\n",
            "Epoch 3/4\n",
            "18/18 [==============================] - 0s 13ms/step - loss: -37.7598 - accuracy: 0.0481\n",
            "Epoch 4/4\n",
            "18/18 [==============================] - 0s 10ms/step - loss: -50.4704 - accuracy: 0.0481\n",
            "71/71 [==============================] - 0s 2ms/step - loss: -59.6227 - accuracy: 0.0467\n"
          ]
        }
      ],
      "source": [
        "model = keras.Sequential([\n",
        "    layers.Dense(1, activation=\"sigmoid\")\n",
        "])\n",
        "model.compile(optimizer=\"rmsprop\",\n",
        "              loss=\"binary_crossentropy\",\n",
        "              metrics=[\"accuracy\"])\n",
        "model.fit(x_train, y_train, epochs=4, batch_size=512)\n",
        "results = model.evaluate(x_test, y_test)"
      ]
    },
    {
      "cell_type": "code",
      "execution_count": 94,
      "metadata": {
        "id": "BmwMeXbkR54M",
        "outputId": "23cd6265-b97c-48a5-b0a3-6e8ff600ff54",
        "colab": {
          "base_uri": "https://localhost:8080/"
        }
      },
      "outputs": [
        {
          "output_type": "execute_result",
          "data": {
            "text/plain": [
              "[-59.06096267700195, 0.0467497780919075]"
            ]
          },
          "metadata": {},
          "execution_count": 94
        }
      ],
      "source": [
        "results"
      ]
    },
    {
      "cell_type": "markdown",
      "metadata": {
        "id": "SOE_hsVAR54M"
      },
      "source": [
        "### Using a trained model to generate predictions on new data"
      ]
    },
    {
      "cell_type": "code",
      "execution_count": 90,
      "metadata": {
        "id": "XSmaWMyXR54N",
        "outputId": "1ea32a4e-4276-4d74-e6b6-4954b39b5123",
        "colab": {
          "base_uri": "https://localhost:8080/"
        }
      },
      "outputs": [
        {
          "output_type": "stream",
          "name": "stdout",
          "text": [
            "71/71 [==============================] - 0s 2ms/step\n"
          ]
        },
        {
          "output_type": "execute_result",
          "data": {
            "text/plain": [
              "array([[0.99956775],\n",
              "       [1.        ],\n",
              "       [0.9999161 ],\n",
              "       ...,\n",
              "       [0.93399394],\n",
              "       [0.9924107 ],\n",
              "       [0.99996436]], dtype=float32)"
            ]
          },
          "metadata": {},
          "execution_count": 90
        }
      ],
      "source": [
        "model.predict(x_test)"
      ]
    },
    {
      "cell_type": "markdown",
      "metadata": {
        "id": "SXw_-r3IR54N"
      },
      "source": [
        "### Further experiments"
      ]
    },
    {
      "cell_type": "markdown",
      "metadata": {
        "id": "5PFx08trR54N"
      },
      "source": [
        "### Wrapping up"
      ]
    },
    {
      "cell_type": "markdown",
      "metadata": {
        "id": "x15yuPxER54O"
      },
      "source": [
        "## Classifying newswires: A multiclass classification example"
      ]
    },
    {
      "cell_type": "markdown",
      "metadata": {
        "id": "kEdTjt07R54X"
      },
      "source": [
        "### The Reuters dataset"
      ]
    },
    {
      "cell_type": "markdown",
      "metadata": {
        "id": "7fwxiejTR54X"
      },
      "source": [
        "**Loading the Reuters dataset**"
      ]
    },
    {
      "cell_type": "code",
      "execution_count": 111,
      "metadata": {
        "id": "PCeGMRhdR54Y"
      },
      "outputs": [],
      "source": [
        "from tensorflow.keras.datasets import reuters\n",
        "(train_data, train_labels), (test_data, test_labels) = reuters.load_data(\n",
        "    num_words=10000)"
      ]
    },
    {
      "cell_type": "code",
      "execution_count": 112,
      "metadata": {
        "id": "RCnPgAXLR54Y",
        "outputId": "342c1fac-c9e4-49fc-81f6-7694dba831dc",
        "colab": {
          "base_uri": "https://localhost:8080/"
        }
      },
      "outputs": [
        {
          "output_type": "execute_result",
          "data": {
            "text/plain": [
              "8982"
            ]
          },
          "metadata": {},
          "execution_count": 112
        }
      ],
      "source": [
        "len(train_data)"
      ]
    },
    {
      "cell_type": "code",
      "source": [
        "train_labels[:10]"
      ],
      "metadata": {
        "id": "Cq7FNAGyY6Ev",
        "outputId": "517d410e-f31d-40a2-bd29-5d751289bbed",
        "colab": {
          "base_uri": "https://localhost:8080/"
        }
      },
      "execution_count": 113,
      "outputs": [
        {
          "output_type": "execute_result",
          "data": {
            "text/plain": [
              "array([ 3,  4,  3,  4,  4,  4,  4,  3,  3, 16])"
            ]
          },
          "metadata": {},
          "execution_count": 113
        }
      ]
    },
    {
      "cell_type": "code",
      "execution_count": 114,
      "metadata": {
        "id": "z0bVe3uyR54Y",
        "outputId": "ea8d1da1-0d4a-4bf6-db87-c8b561cd57fe",
        "colab": {
          "base_uri": "https://localhost:8080/"
        }
      },
      "outputs": [
        {
          "output_type": "execute_result",
          "data": {
            "text/plain": [
              "2246"
            ]
          },
          "metadata": {},
          "execution_count": 114
        }
      ],
      "source": [
        "len(test_data)"
      ]
    },
    {
      "cell_type": "code",
      "execution_count": 115,
      "metadata": {
        "id": "qbd4e_f4R54b",
        "outputId": "f44c16f9-fcee-49f5-bb6d-72b6cc8b5fdb",
        "colab": {
          "base_uri": "https://localhost:8080/"
        }
      },
      "outputs": [
        {
          "output_type": "execute_result",
          "data": {
            "text/plain": [
              "[1,\n",
              " 245,\n",
              " 273,\n",
              " 207,\n",
              " 156,\n",
              " 53,\n",
              " 74,\n",
              " 160,\n",
              " 26,\n",
              " 14,\n",
              " 46,\n",
              " 296,\n",
              " 26,\n",
              " 39,\n",
              " 74,\n",
              " 2979,\n",
              " 3554,\n",
              " 14,\n",
              " 46,\n",
              " 4689,\n",
              " 4329,\n",
              " 86,\n",
              " 61,\n",
              " 3499,\n",
              " 4795,\n",
              " 14,\n",
              " 61,\n",
              " 451,\n",
              " 4329,\n",
              " 17,\n",
              " 12]"
            ]
          },
          "metadata": {},
          "execution_count": 115
        }
      ],
      "source": [
        "train_data[10]"
      ]
    },
    {
      "cell_type": "markdown",
      "metadata": {
        "id": "kemxc86kR54c"
      },
      "source": [
        "**Decoding newswires back to text**"
      ]
    },
    {
      "cell_type": "code",
      "execution_count": 116,
      "metadata": {
        "id": "RXTrNXsGR54c"
      },
      "outputs": [],
      "source": [
        "word_index = reuters.get_word_index()\n",
        "reverse_word_index = dict([(value, key) for (key, value) in word_index.items()])\n",
        "decoded_newswire = \" \".join([reverse_word_index.get(i - 3, \"?\") for i in\n",
        "    train_data[0]])"
      ]
    },
    {
      "cell_type": "code",
      "execution_count": 117,
      "metadata": {
        "id": "4nn62dIjR54d",
        "outputId": "329b6f24-764c-427b-f2e3-4ec99f48f033",
        "colab": {
          "base_uri": "https://localhost:8080/"
        }
      },
      "outputs": [
        {
          "output_type": "execute_result",
          "data": {
            "text/plain": [
              "3"
            ]
          },
          "metadata": {},
          "execution_count": 117
        }
      ],
      "source": [
        "train_labels[10]"
      ]
    },
    {
      "cell_type": "markdown",
      "metadata": {
        "id": "zOd1H4yuR54d"
      },
      "source": [
        "### Preparing the data"
      ]
    },
    {
      "cell_type": "markdown",
      "metadata": {
        "id": "O8iul5r4R54d"
      },
      "source": [
        "**Encoding the input data**"
      ]
    },
    {
      "cell_type": "code",
      "execution_count": 118,
      "metadata": {
        "id": "SphYtrTqR54e"
      },
      "outputs": [],
      "source": [
        "x_train = vectorize_sequences(train_data)\n",
        "x_test = vectorize_sequences(test_data)"
      ]
    },
    {
      "cell_type": "code",
      "source": [
        "x_train.shape"
      ],
      "metadata": {
        "id": "f_Wrv0QhZPcn",
        "outputId": "dc1f6b98-ffab-460f-8876-15b30c87b8cf",
        "colab": {
          "base_uri": "https://localhost:8080/"
        }
      },
      "execution_count": 119,
      "outputs": [
        {
          "output_type": "execute_result",
          "data": {
            "text/plain": [
              "(8982, 10000)"
            ]
          },
          "metadata": {},
          "execution_count": 119
        }
      ]
    },
    {
      "cell_type": "markdown",
      "metadata": {
        "id": "3A2FZKzfR54e"
      },
      "source": [
        "**Encoding the labels**"
      ]
    },
    {
      "cell_type": "code",
      "execution_count": 120,
      "metadata": {
        "id": "7IR3zScdR54e"
      },
      "outputs": [],
      "source": [
        "def to_one_hot(labels, dimension=46):\n",
        "    results = np.zeros((len(labels), dimension))\n",
        "    for i, label in enumerate(labels):\n",
        "        results[i, label] = 1.\n",
        "    return results\n",
        "y_train = to_one_hot(train_labels)\n",
        "y_test = to_one_hot(test_labels)"
      ]
    },
    {
      "cell_type": "code",
      "source": [
        "y_train[:10]"
      ],
      "metadata": {
        "id": "Ah08X3dvZWBD",
        "outputId": "102f357f-5a3b-4686-9d1d-0e6b68b82d96",
        "colab": {
          "base_uri": "https://localhost:8080/"
        }
      },
      "execution_count": 121,
      "outputs": [
        {
          "output_type": "execute_result",
          "data": {
            "text/plain": [
              "array([[0., 0., 0., 1., 0., 0., 0., 0., 0., 0., 0., 0., 0., 0., 0., 0.,\n",
              "        0., 0., 0., 0., 0., 0., 0., 0., 0., 0., 0., 0., 0., 0., 0., 0.,\n",
              "        0., 0., 0., 0., 0., 0., 0., 0., 0., 0., 0., 0., 0., 0.],\n",
              "       [0., 0., 0., 0., 1., 0., 0., 0., 0., 0., 0., 0., 0., 0., 0., 0.,\n",
              "        0., 0., 0., 0., 0., 0., 0., 0., 0., 0., 0., 0., 0., 0., 0., 0.,\n",
              "        0., 0., 0., 0., 0., 0., 0., 0., 0., 0., 0., 0., 0., 0.],\n",
              "       [0., 0., 0., 1., 0., 0., 0., 0., 0., 0., 0., 0., 0., 0., 0., 0.,\n",
              "        0., 0., 0., 0., 0., 0., 0., 0., 0., 0., 0., 0., 0., 0., 0., 0.,\n",
              "        0., 0., 0., 0., 0., 0., 0., 0., 0., 0., 0., 0., 0., 0.],\n",
              "       [0., 0., 0., 0., 1., 0., 0., 0., 0., 0., 0., 0., 0., 0., 0., 0.,\n",
              "        0., 0., 0., 0., 0., 0., 0., 0., 0., 0., 0., 0., 0., 0., 0., 0.,\n",
              "        0., 0., 0., 0., 0., 0., 0., 0., 0., 0., 0., 0., 0., 0.],\n",
              "       [0., 0., 0., 0., 1., 0., 0., 0., 0., 0., 0., 0., 0., 0., 0., 0.,\n",
              "        0., 0., 0., 0., 0., 0., 0., 0., 0., 0., 0., 0., 0., 0., 0., 0.,\n",
              "        0., 0., 0., 0., 0., 0., 0., 0., 0., 0., 0., 0., 0., 0.],\n",
              "       [0., 0., 0., 0., 1., 0., 0., 0., 0., 0., 0., 0., 0., 0., 0., 0.,\n",
              "        0., 0., 0., 0., 0., 0., 0., 0., 0., 0., 0., 0., 0., 0., 0., 0.,\n",
              "        0., 0., 0., 0., 0., 0., 0., 0., 0., 0., 0., 0., 0., 0.],\n",
              "       [0., 0., 0., 0., 1., 0., 0., 0., 0., 0., 0., 0., 0., 0., 0., 0.,\n",
              "        0., 0., 0., 0., 0., 0., 0., 0., 0., 0., 0., 0., 0., 0., 0., 0.,\n",
              "        0., 0., 0., 0., 0., 0., 0., 0., 0., 0., 0., 0., 0., 0.],\n",
              "       [0., 0., 0., 1., 0., 0., 0., 0., 0., 0., 0., 0., 0., 0., 0., 0.,\n",
              "        0., 0., 0., 0., 0., 0., 0., 0., 0., 0., 0., 0., 0., 0., 0., 0.,\n",
              "        0., 0., 0., 0., 0., 0., 0., 0., 0., 0., 0., 0., 0., 0.],\n",
              "       [0., 0., 0., 1., 0., 0., 0., 0., 0., 0., 0., 0., 0., 0., 0., 0.,\n",
              "        0., 0., 0., 0., 0., 0., 0., 0., 0., 0., 0., 0., 0., 0., 0., 0.,\n",
              "        0., 0., 0., 0., 0., 0., 0., 0., 0., 0., 0., 0., 0., 0.],\n",
              "       [0., 0., 0., 0., 0., 0., 0., 0., 0., 0., 0., 0., 0., 0., 0., 0.,\n",
              "        1., 0., 0., 0., 0., 0., 0., 0., 0., 0., 0., 0., 0., 0., 0., 0.,\n",
              "        0., 0., 0., 0., 0., 0., 0., 0., 0., 0., 0., 0., 0., 0.]])"
            ]
          },
          "metadata": {},
          "execution_count": 121
        }
      ]
    },
    {
      "cell_type": "code",
      "execution_count": 122,
      "metadata": {
        "id": "ujEtzpM6R54f"
      },
      "outputs": [],
      "source": [
        "from tensorflow.keras.utils import to_categorical\n",
        "y_train = to_categorical(train_labels)\n",
        "y_test = to_categorical(test_labels)"
      ]
    },
    {
      "cell_type": "markdown",
      "metadata": {
        "id": "lXN4sERxR54f"
      },
      "source": [
        "### Building your model"
      ]
    },
    {
      "cell_type": "markdown",
      "metadata": {
        "id": "ec_bh4h0R54g"
      },
      "source": [
        "**Model definition**"
      ]
    },
    {
      "cell_type": "code",
      "execution_count": 123,
      "metadata": {
        "id": "3KAQXXGxR54g"
      },
      "outputs": [],
      "source": [
        "model = keras.Sequential([\n",
        "    layers.Dense(64, activation=\"relu\"),\n",
        "    layers.Dense(64, activation=\"relu\"),\n",
        "    layers.Dense(46, activation=\"softmax\")\n",
        "])"
      ]
    },
    {
      "cell_type": "markdown",
      "metadata": {
        "id": "UaEg2dL6R54h"
      },
      "source": [
        "**Compiling the model**"
      ]
    },
    {
      "cell_type": "code",
      "execution_count": 124,
      "metadata": {
        "id": "H_syYU_SR54h"
      },
      "outputs": [],
      "source": [
        "model.compile(optimizer=\"rmsprop\",\n",
        "              loss=\"categorical_crossentropy\",\n",
        "              metrics=[\"accuracy\"])"
      ]
    },
    {
      "cell_type": "markdown",
      "metadata": {
        "id": "R6LD0iQoR54i"
      },
      "source": [
        "### Validating your approach"
      ]
    },
    {
      "cell_type": "markdown",
      "metadata": {
        "id": "WAnOjpQXR54i"
      },
      "source": [
        "**Setting aside a validation set**"
      ]
    },
    {
      "cell_type": "code",
      "execution_count": 125,
      "metadata": {
        "id": "-s9h7C_ER54j"
      },
      "outputs": [],
      "source": [
        "x_val = x_train[:1000]\n",
        "partial_x_train = x_train[1000:]\n",
        "y_val = y_train[:1000]\n",
        "partial_y_train = y_train[1000:]"
      ]
    },
    {
      "cell_type": "markdown",
      "metadata": {
        "id": "aaA8VVLUR54j"
      },
      "source": [
        "**Training the model**"
      ]
    },
    {
      "cell_type": "code",
      "execution_count": 126,
      "metadata": {
        "id": "bW79NuzFR54k",
        "outputId": "320e4b12-0004-4aa8-c3ca-25f52c9c59ce",
        "colab": {
          "base_uri": "https://localhost:8080/"
        }
      },
      "outputs": [
        {
          "output_type": "stream",
          "name": "stdout",
          "text": [
            "Epoch 1/20\n",
            "16/16 [==============================] - 2s 78ms/step - loss: 2.6478 - accuracy: 0.4882 - val_loss: 1.8386 - val_accuracy: 0.5740\n",
            "Epoch 2/20\n",
            "16/16 [==============================] - 1s 55ms/step - loss: 1.5452 - accuracy: 0.6491 - val_loss: 1.4052 - val_accuracy: 0.6920\n",
            "Epoch 3/20\n",
            "16/16 [==============================] - 1s 59ms/step - loss: 1.1756 - accuracy: 0.7474 - val_loss: 1.1850 - val_accuracy: 0.7320\n",
            "Epoch 4/20\n",
            "16/16 [==============================] - 1s 56ms/step - loss: 0.9553 - accuracy: 0.7944 - val_loss: 1.0932 - val_accuracy: 0.7470\n",
            "Epoch 5/20\n",
            "16/16 [==============================] - 1s 64ms/step - loss: 0.8007 - accuracy: 0.8225 - val_loss: 1.0122 - val_accuracy: 0.7730\n",
            "Epoch 6/20\n",
            "16/16 [==============================] - 1s 94ms/step - loss: 0.6702 - accuracy: 0.8538 - val_loss: 0.9442 - val_accuracy: 0.7950\n",
            "Epoch 7/20\n",
            "16/16 [==============================] - 1s 85ms/step - loss: 0.5703 - accuracy: 0.8747 - val_loss: 0.9203 - val_accuracy: 0.8020\n",
            "Epoch 8/20\n",
            "16/16 [==============================] - 1s 61ms/step - loss: 0.4741 - accuracy: 0.8994 - val_loss: 0.8810 - val_accuracy: 0.8260\n",
            "Epoch 9/20\n",
            "16/16 [==============================] - 1s 59ms/step - loss: 0.3998 - accuracy: 0.9166 - val_loss: 0.9069 - val_accuracy: 0.8080\n",
            "Epoch 10/20\n",
            "16/16 [==============================] - 1s 59ms/step - loss: 0.3419 - accuracy: 0.9273 - val_loss: 0.8468 - val_accuracy: 0.8210\n",
            "Epoch 11/20\n",
            "16/16 [==============================] - 1s 59ms/step - loss: 0.3010 - accuracy: 0.9327 - val_loss: 0.8524 - val_accuracy: 0.8200\n",
            "Epoch 12/20\n",
            "16/16 [==============================] - 1s 49ms/step - loss: 0.2506 - accuracy: 0.9437 - val_loss: 0.8653 - val_accuracy: 0.8170\n",
            "Epoch 13/20\n",
            "16/16 [==============================] - 1s 55ms/step - loss: 0.2303 - accuracy: 0.9475 - val_loss: 0.8851 - val_accuracy: 0.8170\n",
            "Epoch 14/20\n",
            "16/16 [==============================] - 1s 86ms/step - loss: 0.1998 - accuracy: 0.9494 - val_loss: 0.9156 - val_accuracy: 0.8180\n",
            "Epoch 15/20\n",
            "16/16 [==============================] - 2s 97ms/step - loss: 0.1815 - accuracy: 0.9529 - val_loss: 0.8568 - val_accuracy: 0.8220\n",
            "Epoch 16/20\n",
            "16/16 [==============================] - 1s 62ms/step - loss: 0.1678 - accuracy: 0.9540 - val_loss: 0.9096 - val_accuracy: 0.8150\n",
            "Epoch 17/20\n",
            "16/16 [==============================] - 1s 69ms/step - loss: 0.1547 - accuracy: 0.9559 - val_loss: 0.9562 - val_accuracy: 0.8110\n",
            "Epoch 18/20\n",
            "16/16 [==============================] - 2s 99ms/step - loss: 0.1482 - accuracy: 0.9560 - val_loss: 0.9229 - val_accuracy: 0.8140\n",
            "Epoch 19/20\n",
            "16/16 [==============================] - 1s 79ms/step - loss: 0.1447 - accuracy: 0.9559 - val_loss: 0.9322 - val_accuracy: 0.8150\n",
            "Epoch 20/20\n",
            "16/16 [==============================] - 1s 58ms/step - loss: 0.1332 - accuracy: 0.9563 - val_loss: 0.9080 - val_accuracy: 0.8220\n"
          ]
        }
      ],
      "source": [
        "history = model.fit(partial_x_train,\n",
        "                    partial_y_train,\n",
        "                    epochs=20,\n",
        "                    batch_size=512,\n",
        "                    validation_data=(x_val, y_val))"
      ]
    },
    {
      "cell_type": "markdown",
      "metadata": {
        "id": "ARnHcJXJR54l"
      },
      "source": [
        "**Plotting the training and validation loss**"
      ]
    },
    {
      "cell_type": "code",
      "execution_count": 59,
      "metadata": {
        "id": "KEwRNgBzR54m",
        "outputId": "cb523fca-defa-4c7d-f284-2fc1c5dae2d6",
        "colab": {
          "base_uri": "https://localhost:8080/",
          "height": 472
        }
      },
      "outputs": [
        {
          "output_type": "display_data",
          "data": {
            "text/plain": [
              "<Figure size 640x480 with 1 Axes>"
            ],
            "image/png": "[encoded data removed]"
          },
          "metadata": {}
        }
      ],
      "source": [
        "loss = history.history[\"loss\"]\n",
        "val_loss = history.history[\"val_loss\"]\n",
        "epochs = range(1, len(loss) + 1)\n",
        "plt.plot(epochs, loss, \"bo\", label=\"Training loss\")\n",
        "plt.plot(epochs, val_loss, \"b\", label=\"Validation loss\")\n",
        "plt.title(\"Training and validation loss\")\n",
        "plt.xlabel(\"Epochs\")\n",
        "plt.ylabel(\"Loss\")\n",
        "plt.legend()\n",
        "plt.show()"
      ]
    },
    {
      "cell_type": "markdown",
      "metadata": {
        "id": "kPzech77R54n"
      },
      "source": [
        "**Plotting the training and validation accuracy**"
      ]
    },
    {
      "cell_type": "code",
      "execution_count": 60,
      "metadata": {
        "id": "n-hCBDI3R54n",
        "outputId": "783beb75-393c-466e-d8f3-70b6ba88b0ca",
        "colab": {
          "base_uri": "https://localhost:8080/",
          "height": 472
        }
      },
      "outputs": [
        {
          "output_type": "display_data",
          "data": {
            "text/plain": [
              "<Figure size 640x480 with 1 Axes>"
            ],
            "image/png": "[encoded data removed]"
          },
          "metadata": {}
        }
      ],
      "source": [
        "plt.clf()\n",
        "acc = history.history[\"accuracy\"]\n",
        "val_acc = history.history[\"val_accuracy\"]\n",
        "plt.plot(epochs, acc, \"bo\", label=\"Training accuracy\")\n",
        "plt.plot(epochs, val_acc, \"b\", label=\"Validation accuracy\")\n",
        "plt.title(\"Training and validation accuracy\")\n",
        "plt.xlabel(\"Epochs\")\n",
        "plt.ylabel(\"Accuracy\")\n",
        "plt.legend()\n",
        "plt.show()"
      ]
    },
    {
      "cell_type": "markdown",
      "metadata": {
        "id": "dwK7lCeMR54o"
      },
      "source": [
        "**Retraining a model from scratch**"
      ]
    },
    {
      "cell_type": "code",
      "execution_count": 127,
      "metadata": {
        "id": "DgS-n4RpR54o",
        "outputId": "ee89bb1d-de6e-4bc6-c063-33d058820175",
        "colab": {
          "base_uri": "https://localhost:8080/"
        }
      },
      "outputs": [
        {
          "output_type": "stream",
          "name": "stdout",
          "text": [
            "Epoch 1/9\n",
            "18/18 [==============================] - 2s 46ms/step - loss: 2.9634 - accuracy: 0.4628\n",
            "Epoch 2/9\n",
            "18/18 [==============================] - 1s 49ms/step - loss: 1.5154 - accuracy: 0.6827\n",
            "Epoch 3/9\n",
            "18/18 [==============================] - 1s 59ms/step - loss: 1.1860 - accuracy: 0.7359\n",
            "Epoch 4/9\n",
            "18/18 [==============================] - 1s 54ms/step - loss: 0.9860 - accuracy: 0.7825\n",
            "Epoch 5/9\n",
            "18/18 [==============================] - 1s 73ms/step - loss: 0.8239 - accuracy: 0.8220\n",
            "Epoch 6/9\n",
            "18/18 [==============================] - 2s 88ms/step - loss: 0.6963 - accuracy: 0.8450\n",
            "Epoch 7/9\n",
            "18/18 [==============================] - 1s 64ms/step - loss: 0.5891 - accuracy: 0.8655\n",
            "Epoch 8/9\n",
            "18/18 [==============================] - 1s 46ms/step - loss: 0.4929 - accuracy: 0.8868\n",
            "Epoch 9/9\n",
            "18/18 [==============================] - 1s 49ms/step - loss: 0.4167 - accuracy: 0.9056\n",
            "71/71 [==============================] - 1s 7ms/step - loss: 0.9857 - accuracy: 0.7854\n"
          ]
        }
      ],
      "source": [
        "model = keras.Sequential([\n",
        "  layers.Dense(64, activation=\"relu\"),\n",
        "  layers.Dense(64, activation=\"relu\"),\n",
        "  layers.Dense(64, activation=\"relu\"),\n",
        "  layers.Dense(46, activation=\"softmax\")\n",
        "])\n",
        "model.compile(optimizer=\"rmsprop\",\n",
        "              loss=\"categorical_crossentropy\",\n",
        "              metrics=[\"accuracy\"])\n",
        "model.fit(x_train,\n",
        "          y_train,\n",
        "          epochs=9,\n",
        "          batch_size=512)\n",
        "results = model.evaluate(x_test, y_test)"
      ]
    },
    {
      "cell_type": "code",
      "execution_count": 128,
      "metadata": {
        "id": "ZhjRxHx4R54p",
        "outputId": "29cec89c-06a2-4e91-fe37-74a4c80732c1",
        "colab": {
          "base_uri": "https://localhost:8080/"
        }
      },
      "outputs": [
        {
          "output_type": "execute_result",
          "data": {
            "text/plain": [
              "[0.9857307076454163, 0.7853962779045105]"
            ]
          },
          "metadata": {},
          "execution_count": 128
        }
      ],
      "source": [
        "results"
      ]
    },
    {
      "cell_type": "code",
      "execution_count": 63,
      "metadata": {
        "id": "0tFOFgm7R54p",
        "outputId": "513c1c7d-36de-4e22-bd23-332536824160",
        "colab": {
          "base_uri": "https://localhost:8080/"
        }
      },
      "outputs": [
        {
          "output_type": "execute_result",
          "data": {
            "text/plain": [
              "0.18967052537845058"
            ]
          },
          "metadata": {},
          "execution_count": 63
        }
      ],
      "source": [
        "import copy\n",
        "test_labels_copy = copy.copy(test_labels)\n",
        "np.random.shuffle(test_labels_copy)\n",
        "hits_array = np.array(test_labels) == np.array(test_labels_copy)\n",
        "hits_array.mean()"
      ]
    },
    {
      "cell_type": "markdown",
      "metadata": {
        "id": "dq3b5-CoR54q"
      },
      "source": [
        "### Generating predictions on new data"
      ]
    },
    {
      "cell_type": "code",
      "execution_count": 64,
      "metadata": {
        "id": "fNVD5putR54q",
        "outputId": "ec76a6dd-54bd-417d-91b2-9b18210f015b",
        "colab": {
          "base_uri": "https://localhost:8080/"
        }
      },
      "outputs": [
        {
          "output_type": "stream",
          "name": "stdout",
          "text": [
            "71/71 [==============================] - 0s 4ms/step\n"
          ]
        }
      ],
      "source": [
        "predictions = model.predict(x_test)"
      ]
    },
    {
      "cell_type": "code",
      "execution_count": 65,
      "metadata": {
        "id": "ovu6K4RJR54r",
        "outputId": "43fb27de-9907-4341-fc52-3292802fbedd",
        "colab": {
          "base_uri": "https://localhost:8080/"
        }
      },
      "outputs": [
        {
          "output_type": "execute_result",
          "data": {
            "text/plain": [
              "(46,)"
            ]
          },
          "metadata": {},
          "execution_count": 65
        }
      ],
      "source": [
        "predictions[0].shape"
      ]
    },
    {
      "cell_type": "code",
      "execution_count": 66,
      "metadata": {
        "id": "h3SUSS07R54r",
        "outputId": "ddb9a9b1-5536-45a8-c859-facfb412f5b4",
        "colab": {
          "base_uri": "https://localhost:8080/"
        }
      },
      "outputs": [
        {
          "output_type": "execute_result",
          "data": {
            "text/plain": [
              "0.9999999"
            ]
          },
          "metadata": {},
          "execution_count": 66
        }
      ],
      "source": [
        "np.sum(predictions[0])"
      ]
    },
    {
      "cell_type": "code",
      "execution_count": 67,
      "metadata": {
        "id": "QPHfZtLkR54s",
        "outputId": "05f0e2a6-f2f5-4eeb-e236-ed477fc64202",
        "colab": {
          "base_uri": "https://localhost:8080/"
        }
      },
      "outputs": [
        {
          "output_type": "execute_result",
          "data": {
            "text/plain": [
              "3"
            ]
          },
          "metadata": {},
          "execution_count": 67
        }
      ],
      "source": [
        "np.argmax(predictions[0])"
      ]
    },
    {
      "cell_type": "markdown",
      "metadata": {
        "id": "QAFKXYSnR54s"
      },
      "source": [
        "### A different way to handle the labels and the loss"
      ]
    },
    {
      "cell_type": "code",
      "execution_count": 68,
      "metadata": {
        "id": "m7BdB1SRR54t"
      },
      "outputs": [],
      "source": [
        "y_train = np.array(train_labels)\n",
        "y_test = np.array(test_labels)"
      ]
    },
    {
      "cell_type": "code",
      "execution_count": 69,
      "metadata": {
        "id": "6m0Xca5ER54u"
      },
      "outputs": [],
      "source": [
        "model.compile(optimizer=\"rmsprop\",\n",
        "              loss=\"sparse_categorical_crossentropy\",\n",
        "              metrics=[\"accuracy\"])"
      ]
    },
    {
      "cell_type": "markdown",
      "metadata": {
        "id": "ICsdP9ouR54u"
      },
      "source": [
        "### The importance of having sufficiently large intermediate layers"
      ]
    },
    {
      "cell_type": "markdown",
      "metadata": {
        "id": "fAoYjk0BR54v"
      },
      "source": [
        "**A model with an information bottleneck**"
      ]
    },
    {
      "cell_type": "code",
      "execution_count": 70,
      "metadata": {
        "id": "WnOtUZ0dR54v",
        "outputId": "25236fbb-5eec-40f8-9517-7618163f48a3",
        "colab": {
          "base_uri": "https://localhost:8080/"
        }
      },
      "outputs": [
        {
          "output_type": "stream",
          "name": "stdout",
          "text": [
            "Epoch 1/20\n",
            "63/63 [==============================] - 2s 23ms/step - loss: 3.0721 - accuracy: 0.2580 - val_loss: 2.3734 - val_accuracy: 0.5150\n",
            "Epoch 2/20\n",
            "63/63 [==============================] - 2s 30ms/step - loss: 1.9188 - accuracy: 0.5559 - val_loss: 1.6868 - val_accuracy: 0.5630\n",
            "Epoch 3/20\n",
            "63/63 [==============================] - 1s 20ms/step - loss: 1.5032 - accuracy: 0.5922 - val_loss: 1.5140 - val_accuracy: 0.5990\n",
            "Epoch 4/20\n",
            "63/63 [==============================] - 1s 16ms/step - loss: 1.3098 - accuracy: 0.6555 - val_loss: 1.4255 - val_accuracy: 0.6510\n",
            "Epoch 5/20\n",
            "63/63 [==============================] - 1s 16ms/step - loss: 1.1918 - accuracy: 0.6867 - val_loss: 1.3998 - val_accuracy: 0.6460\n",
            "Epoch 6/20\n",
            "63/63 [==============================] - 1s 19ms/step - loss: 1.1096 - accuracy: 0.6952 - val_loss: 1.3685 - val_accuracy: 0.6560\n",
            "Epoch 7/20\n",
            "63/63 [==============================] - 1s 17ms/step - loss: 1.0450 - accuracy: 0.7026 - val_loss: 1.3826 - val_accuracy: 0.6540\n",
            "Epoch 8/20\n",
            "63/63 [==============================] - 1s 16ms/step - loss: 0.9943 - accuracy: 0.7269 - val_loss: 1.3984 - val_accuracy: 0.6650\n",
            "Epoch 9/20\n",
            "63/63 [==============================] - 1s 17ms/step - loss: 0.9492 - accuracy: 0.7468 - val_loss: 1.4169 - val_accuracy: 0.6650\n",
            "Epoch 10/20\n",
            "63/63 [==============================] - 1s 19ms/step - loss: 0.9118 - accuracy: 0.7528 - val_loss: 1.4527 - val_accuracy: 0.6680\n",
            "Epoch 11/20\n",
            "63/63 [==============================] - 1s 18ms/step - loss: 0.8790 - accuracy: 0.7588 - val_loss: 1.4447 - val_accuracy: 0.6660\n",
            "Epoch 12/20\n",
            "63/63 [==============================] - 2s 28ms/step - loss: 0.8500 - accuracy: 0.7620 - val_loss: 1.4672 - val_accuracy: 0.6670\n",
            "Epoch 13/20\n",
            "63/63 [==============================] - 2s 25ms/step - loss: 0.8216 - accuracy: 0.7671 - val_loss: 1.5309 - val_accuracy: 0.6630\n",
            "Epoch 14/20\n",
            "63/63 [==============================] - 1s 16ms/step - loss: 0.7990 - accuracy: 0.7714 - val_loss: 1.5624 - val_accuracy: 0.6610\n",
            "Epoch 15/20\n",
            "63/63 [==============================] - 1s 19ms/step - loss: 0.7772 - accuracy: 0.7735 - val_loss: 1.6113 - val_accuracy: 0.6640\n",
            "Epoch 16/20\n",
            "63/63 [==============================] - 1s 21ms/step - loss: 0.7576 - accuracy: 0.7774 - val_loss: 1.6604 - val_accuracy: 0.6640\n",
            "Epoch 17/20\n",
            "63/63 [==============================] - 1s 17ms/step - loss: 0.7394 - accuracy: 0.7820 - val_loss: 1.6349 - val_accuracy: 0.6590\n",
            "Epoch 18/20\n",
            "63/63 [==============================] - 1s 16ms/step - loss: 0.7242 - accuracy: 0.7835 - val_loss: 1.7147 - val_accuracy: 0.6620\n",
            "Epoch 19/20\n",
            "63/63 [==============================] - 1s 16ms/step - loss: 0.7076 - accuracy: 0.7843 - val_loss: 1.7555 - val_accuracy: 0.6640\n",
            "Epoch 20/20\n",
            "63/63 [==============================] - 1s 17ms/step - loss: 0.6917 - accuracy: 0.7871 - val_loss: 1.8374 - val_accuracy: 0.6570\n"
          ]
        },
        {
          "output_type": "execute_result",
          "data": {
            "text/plain": [
              "<keras.src.callbacks.History at 0x78233c82d810>"
            ]
          },
          "metadata": {},
          "execution_count": 70
        }
      ],
      "source": [
        "model = keras.Sequential([\n",
        "    layers.Dense(64, activation=\"relu\"),\n",
        "    layers.Dense(4, activation=\"relu\"),\n",
        "    layers.Dense(46, activation=\"softmax\")\n",
        "])\n",
        "model.compile(optimizer=\"rmsprop\",\n",
        "              loss=\"categorical_crossentropy\",\n",
        "              metrics=[\"accuracy\"])\n",
        "model.fit(partial_x_train,\n",
        "          partial_y_train,\n",
        "          epochs=20,\n",
        "          batch_size=128,\n",
        "          validation_data=(x_val, y_val))"
      ]
    },
    {
      "cell_type": "markdown",
      "metadata": {
        "id": "VtKux32nR54v"
      },
      "source": [
        "### Further experiments"
      ]
    },
    {
      "cell_type": "markdown",
      "metadata": {
        "id": "lY9oPq-AR54w"
      },
      "source": [
        "### Wrapping up"
      ]
    },
    {
      "cell_type": "markdown",
      "metadata": {
        "id": "Zq7F29F0R54w"
      },
      "source": [
        "## Predicting house prices: A regression example"
      ]
    },
    {
      "cell_type": "markdown",
      "metadata": {
        "id": "8iAfQCAnR54x"
      },
      "source": [
        "### The Boston Housing Price dataset"
      ]
    },
    {
      "cell_type": "markdown",
      "metadata": {
        "id": "sNSGav77R54x"
      },
      "source": [
        "**Loading the Boston housing dataset**"
      ]
    },
    {
      "cell_type": "code",
      "execution_count": 71,
      "metadata": {
        "id": "i8inOiQnR54x",
        "outputId": "9a350058-e74d-461f-cb8e-54aede9433bc",
        "colab": {
          "base_uri": "https://localhost:8080/"
        }
      },
      "outputs": [
        {
          "output_type": "stream",
          "name": "stdout",
          "text": [
            "Downloading data from https://storage.googleapis.com/tensorflow/tf-keras-datasets/boston_housing.npz\n",
            "57026/57026 [==============================] - 0s 0us/step\n"
          ]
        }
      ],
      "source": [
        "from tensorflow.keras.datasets import boston_housing\n",
        "(train_data, train_targets), (test_data, test_targets) = boston_housing.load_data()"
      ]
    },
    {
      "cell_type": "code",
      "execution_count": 72,
      "metadata": {
        "id": "gBs58Ln8R54y",
        "outputId": "a7c16899-fd69-45a6-eef9-ac14cb9be30a",
        "colab": {
          "base_uri": "https://localhost:8080/"
        }
      },
      "outputs": [
        {
          "output_type": "execute_result",
          "data": {
            "text/plain": [
              "(404, 13)"
            ]
          },
          "metadata": {},
          "execution_count": 72
        }
      ],
      "source": [
        "train_data.shape"
      ]
    },
    {
      "cell_type": "code",
      "execution_count": 73,
      "metadata": {
        "id": "VDyfT329R54y",
        "outputId": "82e9e58d-d93b-44a5-bbc5-78e011e6a4d1",
        "colab": {
          "base_uri": "https://localhost:8080/"
        }
      },
      "outputs": [
        {
          "output_type": "execute_result",
          "data": {
            "text/plain": [
              "(102, 13)"
            ]
          },
          "metadata": {},
          "execution_count": 73
        }
      ],
      "source": [
        "test_data.shape"
      ]
    },
    {
      "cell_type": "code",
      "execution_count": 74,
      "metadata": {
        "id": "aIW0e7IFR54y",
        "outputId": "93362fce-ae82-4b30-b827-2844eda5a182",
        "colab": {
          "base_uri": "https://localhost:8080/"
        }
      },
      "outputs": [
        {
          "output_type": "execute_result",
          "data": {
            "text/plain": [
              "array([15.2, 42.3, 50. , 21.1, 17.7, 18.5, 11.3, 15.6, 15.6, 14.4, 12.1,\n",
              "       17.9, 23.1, 19.9, 15.7,  8.8, 50. , 22.5, 24.1, 27.5, 10.9, 30.8,\n",
              "       32.9, 24. , 18.5, 13.3, 22.9, 34.7, 16.6, 17.5, 22.3, 16.1, 14.9,\n",
              "       23.1, 34.9, 25. , 13.9, 13.1, 20.4, 20. , 15.2, 24.7, 22.2, 16.7,\n",
              "       12.7, 15.6, 18.4, 21. , 30.1, 15.1, 18.7,  9.6, 31.5, 24.8, 19.1,\n",
              "       22. , 14.5, 11. , 32. , 29.4, 20.3, 24.4, 14.6, 19.5, 14.1, 14.3,\n",
              "       15.6, 10.5,  6.3, 19.3, 19.3, 13.4, 36.4, 17.8, 13.5, 16.5,  8.3,\n",
              "       14.3, 16. , 13.4, 28.6, 43.5, 20.2, 22. , 23. , 20.7, 12.5, 48.5,\n",
              "       14.6, 13.4, 23.7, 50. , 21.7, 39.8, 38.7, 22.2, 34.9, 22.5, 31.1,\n",
              "       28.7, 46. , 41.7, 21. , 26.6, 15. , 24.4, 13.3, 21.2, 11.7, 21.7,\n",
              "       19.4, 50. , 22.8, 19.7, 24.7, 36.2, 14.2, 18.9, 18.3, 20.6, 24.6,\n",
              "       18.2,  8.7, 44. , 10.4, 13.2, 21.2, 37. , 30.7, 22.9, 20. , 19.3,\n",
              "       31.7, 32. , 23.1, 18.8, 10.9, 50. , 19.6,  5. , 14.4, 19.8, 13.8,\n",
              "       19.6, 23.9, 24.5, 25. , 19.9, 17.2, 24.6, 13.5, 26.6, 21.4, 11.9,\n",
              "       22.6, 19.6,  8.5, 23.7, 23.1, 22.4, 20.5, 23.6, 18.4, 35.2, 23.1,\n",
              "       27.9, 20.6, 23.7, 28. , 13.6, 27.1, 23.6, 20.6, 18.2, 21.7, 17.1,\n",
              "        8.4, 25.3, 13.8, 22.2, 18.4, 20.7, 31.6, 30.5, 20.3,  8.8, 19.2,\n",
              "       19.4, 23.1, 23. , 14.8, 48.8, 22.6, 33.4, 21.1, 13.6, 32.2, 13.1,\n",
              "       23.4, 18.9, 23.9, 11.8, 23.3, 22.8, 19.6, 16.7, 13.4, 22.2, 20.4,\n",
              "       21.8, 26.4, 14.9, 24.1, 23.8, 12.3, 29.1, 21. , 19.5, 23.3, 23.8,\n",
              "       17.8, 11.5, 21.7, 19.9, 25. , 33.4, 28.5, 21.4, 24.3, 27.5, 33.1,\n",
              "       16.2, 23.3, 48.3, 22.9, 22.8, 13.1, 12.7, 22.6, 15. , 15.3, 10.5,\n",
              "       24. , 18.5, 21.7, 19.5, 33.2, 23.2,  5. , 19.1, 12.7, 22.3, 10.2,\n",
              "       13.9, 16.3, 17. , 20.1, 29.9, 17.2, 37.3, 45.4, 17.8, 23.2, 29. ,\n",
              "       22. , 18. , 17.4, 34.6, 20.1, 25. , 15.6, 24.8, 28.2, 21.2, 21.4,\n",
              "       23.8, 31. , 26.2, 17.4, 37.9, 17.5, 20. ,  8.3, 23.9,  8.4, 13.8,\n",
              "        7.2, 11.7, 17.1, 21.6, 50. , 16.1, 20.4, 20.6, 21.4, 20.6, 36.5,\n",
              "        8.5, 24.8, 10.8, 21.9, 17.3, 18.9, 36.2, 14.9, 18.2, 33.3, 21.8,\n",
              "       19.7, 31.6, 24.8, 19.4, 22.8,  7.5, 44.8, 16.8, 18.7, 50. , 50. ,\n",
              "       19.5, 20.1, 50. , 17.2, 20.8, 19.3, 41.3, 20.4, 20.5, 13.8, 16.5,\n",
              "       23.9, 20.6, 31.5, 23.3, 16.8, 14. , 33.8, 36.1, 12.8, 18.3, 18.7,\n",
              "       19.1, 29. , 30.1, 50. , 50. , 22. , 11.9, 37.6, 50. , 22.7, 20.8,\n",
              "       23.5, 27.9, 50. , 19.3, 23.9, 22.6, 15.2, 21.7, 19.2, 43.8, 20.3,\n",
              "       33.2, 19.9, 22.5, 32.7, 22. , 17.1, 19. , 15. , 16.1, 25.1, 23.7,\n",
              "       28.7, 37.2, 22.6, 16.4, 25. , 29.8, 22.1, 17.4, 18.1, 30.3, 17.5,\n",
              "       24.7, 12.6, 26.5, 28.7, 13.3, 10.4, 24.4, 23. , 20. , 17.8,  7. ,\n",
              "       11.8, 24.4, 13.8, 19.4, 25.2, 19.4, 19.4, 29.1])"
            ]
          },
          "metadata": {},
          "execution_count": 74
        }
      ],
      "source": [
        "train_targets"
      ]
    },
    {
      "cell_type": "markdown",
      "metadata": {
        "id": "JqQM6lIRR54z"
      },
      "source": [
        "### Preparing the data"
      ]
    },
    {
      "cell_type": "markdown",
      "metadata": {
        "id": "TfeFQy_MR54z"
      },
      "source": [
        "**Normalizing the data**"
      ]
    },
    {
      "cell_type": "code",
      "execution_count": 75,
      "metadata": {
        "id": "BgjZpmLER54z"
      },
      "outputs": [],
      "source": [
        "mean = train_data.mean(axis=0)\n",
        "train_data -= mean\n",
        "std = train_data.std(axis=0)\n",
        "train_data /= std\n",
        "test_data -= mean\n",
        "test_data /= std"
      ]
    },
    {
      "cell_type": "markdown",
      "metadata": {
        "id": "bqvjTCl3R540"
      },
      "source": [
        "### Building your model"
      ]
    },
    {
      "cell_type": "markdown",
      "metadata": {
        "id": "UjIekRMoR540"
      },
      "source": [
        "**Model definition**"
      ]
    },
    {
      "cell_type": "code",
      "execution_count": 76,
      "metadata": {
        "id": "AVlkE4V8R540"
      },
      "outputs": [],
      "source": [
        "def build_model():\n",
        "    model = keras.Sequential([\n",
        "        layers.Dense(64, activation=\"relu\"),\n",
        "        layers.Dense(64, activation=\"relu\"),\n",
        "        layers.Dense(1)\n",
        "    ])\n",
        "    model.compile(optimizer=\"rmsprop\", loss=\"mse\", metrics=[\"mae\"])\n",
        "    return model"
      ]
    },
    {
      "cell_type": "markdown",
      "metadata": {
        "id": "oSNdXMJtR541"
      },
      "source": [
        "### Validating your approach using K-fold validation"
      ]
    },
    {
      "cell_type": "markdown",
      "metadata": {
        "id": "1Cy-f4R8R542"
      },
      "source": [
        "**K-fold validation**"
      ]
    },
    {
      "cell_type": "code",
      "execution_count": 77,
      "metadata": {
        "id": "rYFW1yclR542",
        "outputId": "d8e50320-6d45-48b6-849c-eadd92234161",
        "colab": {
          "base_uri": "https://localhost:8080/"
        }
      },
      "outputs": [
        {
          "output_type": "stream",
          "name": "stdout",
          "text": [
            "Processing fold #0\n",
            "Processing fold #1\n",
            "Processing fold #2\n",
            "Processing fold #3\n"
          ]
        }
      ],
      "source": [
        "k = 4\n",
        "num_val_samples = len(train_data) // k\n",
        "num_epochs = 100\n",
        "all_scores = []\n",
        "for i in range(k):\n",
        "    print(f\"Processing fold #{i}\")\n",
        "    val_data = train_data[i * num_val_samples: (i + 1) * num_val_samples]\n",
        "    val_targets = train_targets[i * num_val_samples: (i + 1) * num_val_samples]\n",
        "    partial_train_data = np.concatenate(\n",
        "        [train_data[:i * num_val_samples],\n",
        "         train_data[(i + 1) * num_val_samples:]],\n",
        "        axis=0)\n",
        "    partial_train_targets = np.concatenate(\n",
        "        [train_targets[:i * num_val_samples],\n",
        "         train_targets[(i + 1) * num_val_samples:]],\n",
        "        axis=0)\n",
        "    model = build_model()\n",
        "    model.fit(partial_train_data, partial_train_targets,\n",
        "              epochs=num_epochs, batch_size=16, verbose=0)\n",
        "    val_mse, val_mae = model.evaluate(val_data, val_targets, verbose=0)\n",
        "    all_scores.append(val_mae)"
      ]
    },
    {
      "cell_type": "code",
      "execution_count": 78,
      "metadata": {
        "id": "2xXqgkg0R542",
        "outputId": "4deafdef-0178-4cfb-f4cb-a64372f154c9",
        "colab": {
          "base_uri": "https://localhost:8080/"
        }
      },
      "outputs": [
        {
          "output_type": "execute_result",
          "data": {
            "text/plain": [
              "[1.8833690881729126, 2.4654130935668945, 2.570223569869995, 2.4545822143554688]"
            ]
          },
          "metadata": {},
          "execution_count": 78
        }
      ],
      "source": [
        "all_scores"
      ]
    },
    {
      "cell_type": "code",
      "execution_count": 79,
      "metadata": {
        "id": "_sK2n3zPR543",
        "outputId": "14886a78-3ef8-4635-a9eb-291738cfac5e",
        "colab": {
          "base_uri": "https://localhost:8080/"
        }
      },
      "outputs": [
        {
          "output_type": "execute_result",
          "data": {
            "text/plain": [
              "2.3433969914913177"
            ]
          },
          "metadata": {},
          "execution_count": 79
        }
      ],
      "source": [
        "np.mean(all_scores)"
      ]
    },
    {
      "cell_type": "markdown",
      "metadata": {
        "id": "Kb0TefIBR543"
      },
      "source": [
        "**Saving the validation logs at each fold**"
      ]
    },
    {
      "cell_type": "code",
      "execution_count": 80,
      "metadata": {
        "id": "tXlQ0tCZR543",
        "outputId": "da9791a7-6594-40aa-9963-4364bd028a11",
        "colab": {
          "base_uri": "https://localhost:8080/"
        }
      },
      "outputs": [
        {
          "output_type": "stream",
          "name": "stdout",
          "text": [
            "Processing fold #0\n",
            "Processing fold #1\n",
            "Processing fold #2\n",
            "Processing fold #3\n"
          ]
        }
      ],
      "source": [
        "num_epochs = 500\n",
        "all_mae_histories = []\n",
        "for i in range(k):\n",
        "    print(f\"Processing fold #{i}\")\n",
        "    val_data = train_data[i * num_val_samples: (i + 1) * num_val_samples]\n",
        "    val_targets = train_targets[i * num_val_samples: (i + 1) * num_val_samples]\n",
        "    partial_train_data = np.concatenate(\n",
        "        [train_data[:i * num_val_samples],\n",
        "         train_data[(i + 1) * num_val_samples:]],\n",
        "        axis=0)\n",
        "    partial_train_targets = np.concatenate(\n",
        "        [train_targets[:i * num_val_samples],\n",
        "         train_targets[(i + 1) * num_val_samples:]],\n",
        "        axis=0)\n",
        "    model = build_model()\n",
        "    history = model.fit(partial_train_data, partial_train_targets,\n",
        "                        validation_data=(val_data, val_targets),\n",
        "                        epochs=num_epochs, batch_size=16, verbose=0)\n",
        "    mae_history = history.history[\"val_mae\"]\n",
        "    all_mae_histories.append(mae_history)"
      ]
    },
    {
      "cell_type": "markdown",
      "metadata": {
        "id": "aHzn8bhSR544"
      },
      "source": [
        "**Building the history of successive mean K-fold validation scores**"
      ]
    },
    {
      "cell_type": "code",
      "execution_count": 81,
      "metadata": {
        "id": "PyY20D8fR545"
      },
      "outputs": [],
      "source": [
        "average_mae_history = [\n",
        "    np.mean([x[i] for x in all_mae_histories]) for i in range(num_epochs)]"
      ]
    },
    {
      "cell_type": "markdown",
      "metadata": {
        "id": "NwtRnBpQR545"
      },
      "source": [
        "**Plotting validation scores**"
      ]
    },
    {
      "cell_type": "code",
      "execution_count": 82,
      "metadata": {
        "id": "G1sVfRn1R545",
        "outputId": "2b6071f6-3d1d-45c5-e2ed-36accc4ae8e0",
        "colab": {
          "base_uri": "https://localhost:8080/",
          "height": 449
        }
      },
      "outputs": [
        {
          "output_type": "display_data",
          "data": {
            "text/plain": [
              "<Figure size 640x480 with 1 Axes>"
            ],
            "image/png": "[encoded data removed]"
          },
          "metadata": {}
        }
      ],
      "source": [
        "plt.plot(range(1, len(average_mae_history) + 1), average_mae_history)\n",
        "plt.xlabel(\"Epochs\")\n",
        "plt.ylabel(\"Validation MAE\")\n",
        "plt.show()"
      ]
    },
    {
      "cell_type": "markdown",
      "metadata": {
        "id": "a7R8-dE-R546"
      },
      "source": [
        "**Plotting validation scores, excluding the first 10 data points**"
      ]
    },
    {
      "cell_type": "code",
      "execution_count": 83,
      "metadata": {
        "id": "6mG-3gpmR546",
        "outputId": "d94b44ec-d591-4ec9-d44e-60095c1ed14d",
        "colab": {
          "base_uri": "https://localhost:8080/",
          "height": 451
        }
      },
      "outputs": [
        {
          "output_type": "display_data",
          "data": {
            "text/plain": [
              "<Figure size 640x480 with 1 Axes>"
            ],
            "image/png": "[encoded data removed]"
          },
          "metadata": {}
        }
      ],
      "source": [
        "truncated_mae_history = average_mae_history[10:]\n",
        "plt.plot(range(1, len(truncated_mae_history) + 1), truncated_mae_history)\n",
        "plt.xlabel(\"Epochs\")\n",
        "plt.ylabel(\"Validation MAE\")\n",
        "plt.show()"
      ]
    },
    {
      "cell_type": "markdown",
      "metadata": {
        "id": "bIksFrQcR547"
      },
      "source": [
        "**Training the final model**"
      ]
    },
    {
      "cell_type": "code",
      "execution_count": 95,
      "metadata": {
        "id": "1IN2qn3BR547",
        "outputId": "91f31fd9-caf9-45ef-a45a-2095953d9aca",
        "colab": {
          "base_uri": "https://localhost:8080/"
        }
      },
      "outputs": [
        {
          "output_type": "stream",
          "name": "stdout",
          "text": [
            "4/4 [==============================] - 0s 4ms/step - loss: 16.1410 - mae: 2.5128\n"
          ]
        }
      ],
      "source": [
        "model = build_model()\n",
        "model.fit(train_data, train_targets,\n",
        "          epochs=130, batch_size=16, verbose=0)\n",
        "test_mse_score, test_mae_score = model.evaluate(test_data, test_targets)"
      ]
    },
    {
      "cell_type": "code",
      "execution_count": 85,
      "metadata": {
        "id": "BD7nxbUKR547",
        "outputId": "887f8ed5-6019-449d-d54b-d9a8b434d850",
        "colab": {
          "base_uri": "https://localhost:8080/"
        }
      },
      "outputs": [
        {
          "output_type": "execute_result",
          "data": {
            "text/plain": [
              "2.393540382385254"
            ]
          },
          "metadata": {},
          "execution_count": 85
        }
      ],
      "source": [
        "test_mae_score"
      ]
    },
    {
      "cell_type": "markdown",
      "metadata": {
        "id": "l0DAhOGXR548"
      },
      "source": [
        "### Generating predictions on new data"
      ]
    },
    {
      "cell_type": "code",
      "execution_count": 86,
      "metadata": {
        "id": "68frHyTlR548",
        "outputId": "c8cb6303-acef-410a-f2aa-27d0320ca614",
        "colab": {
          "base_uri": "https://localhost:8080/"
        }
      },
      "outputs": [
        {
          "output_type": "stream",
          "name": "stdout",
          "text": [
            "4/4 [==============================] - 0s 3ms/step\n"
          ]
        },
        {
          "output_type": "execute_result",
          "data": {
            "text/plain": [
              "array([8.013706], dtype=float32)"
            ]
          },
          "metadata": {},
          "execution_count": 86
        }
      ],
      "source": [
        "predictions = model.predict(test_data)\n",
        "predictions[0]"
      ]
    },
    {
      "cell_type": "markdown",
      "metadata": {
        "id": "mfdPihoSR548"
      },
      "source": [
        "### Wrapping up"
      ]
    },
    {
      "cell_type": "markdown",
      "metadata": {
        "id": "4tmNHZhzR549"
      },
      "source": [
        "## Summary"
      ]
    }
  ],
  "metadata": {
    "colab": {
      "name": "chapter04_getting-started-with-neural-networks.i",
      "provenance": []
    },
    "kernelspec": {
      "display_name": "Python 3",
      "language": "python",
      "name": "python3"
    },
    "language_info": {
      "codemirror_mode": {
        "name": "ipython",
        "version": 3
      },
      "file_extension": ".py",
      "mimetype": "text/x-python",
      "name": "python",
      "nbconvert_exporter": "python",
      "pygments_lexer": "ipython3",
      "version": "3.7.0"
    }
  },
  "nbformat": 4,
  "nbformat_minor": 0
}